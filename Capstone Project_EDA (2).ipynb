{
 "cells": [
  {
   "cell_type": "code",
   "execution_count": 1,
   "metadata": {},
   "outputs": [],
   "source": [
    "import os \n",
    "os.chdir('D:\\DSC672_PAC\\Final_Project\\Processed Files_LATEST\\Processed Files\\Concatenated Files')\n",
    "#os.chdir('C:\\\\Users\\\\htran12\\\\Downloads')"
   ]
  },
  {
   "cell_type": "code",
   "execution_count": 2,
   "metadata": {},
   "outputs": [],
   "source": [
    "from math import sqrt\n",
    "\n",
    "#numpy \n",
    "import numpy as np\n",
    "from numpy import concatenate\n",
    "\n",
    "#pandas\n",
    "import pandas as pd\n",
    "from pandas import to_datetime\n",
    "from pandas import read_csv\n",
    "from pandas import DataFrame\n",
    "from pandas import concat\n",
    "\n",
    "#matplotlib\n",
    "from matplotlib import pyplot\n",
    "\n",
    "#seaborn\n",
    "import seaborn as sns\n",
    "\n",
    "#scipy\n",
    "from scipy import stats\n",
    "\n",
    "#sklearn\n",
    "from sklearn import preprocessing\n",
    "from sklearn.preprocessing import MinMaxScaler\n",
    "from sklearn.preprocessing import StandardScaler\n",
    "from sklearn.metrics import mean_squared_error\n",
    "from sklearn.model_selection import train_test_split"
   ]
  },
  {
   "cell_type": "code",
   "execution_count": 3,
   "metadata": {},
   "outputs": [
    {
     "name": "stderr",
     "output_type": "stream",
     "text": [
      "Using TensorFlow backend.\n"
     ]
    }
   ],
   "source": [
    "#keras\n",
    "from keras.models import Sequential\n",
    "from keras.layers import Dense, Dropout, Flatten\n",
    "from keras.layers import Conv2D, MaxPooling2D\n",
    "from keras.layers import Embedding\n",
    "from keras.layers import LSTM, GRU"
   ]
  },
  {
   "cell_type": "code",
   "execution_count": 4,
   "metadata": {},
   "outputs": [],
   "source": [
    "#import data sets\n",
    "cons = read_csv('consumption_powercity_concat_w_cal_new.csv', index_col=0)\n",
    "sola_prod = read_csv('production_solararray_concat.csv', index_col=0)\n",
    "wind_prod = read_csv('production_windfarm_concat.csv', index_col=0)\n",
    "scen = read_csv('scenario_powercity_concat_w_cal.csv', index_col=0)\n",
    "sect = read_csv('sector_sizes.csv', index_col=0)"
   ]
  },
  {
   "cell_type": "markdown",
   "metadata": {},
   "source": [
    "### consumption"
   ]
  },
  {
   "cell_type": "code",
   "execution_count": 6,
   "metadata": {},
   "outputs": [],
   "source": [
    "#manually specify column names\n",
    "cons.index.name = 'date'\n",
    "cons.columns = ['Mt','Dt','Ht','Dow','Wkdy','Hd','Sd','Sect','ECons',\n",
    "                'SEle','CCov','DPnt','HFra','PWat','Temp','Vis']"
   ]
  },
  {
   "cell_type": "code",
   "execution_count": 7,
   "metadata": {},
   "outputs": [
    {
     "name": "stdout",
     "output_type": "stream",
     "text": [
      "               Mt  Dt  Ht  Dow Wkdy    Hd    Sd          Sect     ECons  \\\n",
      "date                                                                      \n",
      "1/1/1991 0:00   1   1   0    1  Sun  hd_1  sd_0  FOOD_SERVICE  0.005416   \n",
      "1/1/1991 0:00   1   1   0    1  Sun  hd_1  sd_0       GROCERY  0.002030   \n",
      "1/1/1991 0:00   1   1   0    1  Sun  hd_1  sd_0   HEALTH_CARE  0.002390   \n",
      "\n",
      "                    SEle  CCov  DPnt  HFra  PWat  Temp  Vis  \n",
      "date                                                         \n",
      "1/1/1991 0:00 -68.532769   1.0  -8.9  0.81     6  -6.1  4.0  \n",
      "1/1/1991 0:00 -68.532769   1.0  -8.9  0.81     6  -6.1  4.0  \n",
      "1/1/1991 0:00 -68.532769   1.0  -8.9  0.81     6  -6.1  4.0  \n"
     ]
    }
   ],
   "source": [
    "print(cons.head(3))"
   ]
  },
  {
   "cell_type": "code",
   "execution_count": 8,
   "metadata": {},
   "outputs": [
    {
     "data": {
      "image/png": "[encoded data removed]",
      "text/plain": [
       "<Figure size 792x648 with 2 Axes>"
      ]
     },
     "metadata": {},
     "output_type": "display_data"
    }
   ],
   "source": [
    "sns.set(style=\"white\")\n",
    "\n",
    "# Compute the correlation matrix\n",
    "corr = cons.corr()\n",
    "\n",
    "# Generate a mask for the upper triangle\n",
    "mask = np.zeros_like(corr, dtype=np.bool)\n",
    "mask[np.triu_indices_from(mask)] = True\n",
    "\n",
    "# Set up the matplotlib figure\n",
    "f, ax = pyplot.subplots(figsize=(11, 9))\n",
    "\n",
    "# Generate a custom diverging colormap\n",
    "cmap = sns.diverging_palette(220, 10, as_cmap=True)\n",
    "\n",
    "# Draw the heatmap with the mask and correct aspect ratio\n",
    "sns.heatmap(corr, mask=mask, cmap=cmap, vmax=.3, center=0, square=True, linewidths=.5, cbar_kws={\"shrink\": .5})\n",
    "pyplot.suptitle('Correlation matrix')\n",
    "pyplot.savefig(\"corr_matrix.pdf\", bbox_inches='tight')"
   ]
  },
  {
   "cell_type": "code",
   "execution_count": 9,
   "metadata": {},
   "outputs": [],
   "source": [
    "#saving categorical features into their own individual for future use if needed\n",
    "cons_Wkdy = cons['Wkdy']\n",
    "cons_Hd = cons['Hd']\n",
    "cons_Sd = cons['Sd']\n",
    "cons_Sect = cons['Sect']"
   ]
  },
  {
   "cell_type": "code",
   "execution_count": 10,
   "metadata": {},
   "outputs": [],
   "source": [
    "#excluding Month/Day/Hour variables\n",
    "cons1 = cons.drop(columns=['Mt','Dt','Ht','Dow'])"
   ]
  },
  {
   "cell_type": "code",
   "execution_count": 11,
   "metadata": {},
   "outputs": [
    {
     "data": {
      "text/html": [
       "<div>\n",
       "<style scoped>\n",
       "    .dataframe tbody tr th:only-of-type {\n",
       "        vertical-align: middle;\n",
       "    }\n",
       "\n",
       "    .dataframe tbody tr th {\n",
       "        vertical-align: top;\n",
       "    }\n",
       "\n",
       "    .dataframe thead th {\n",
       "        text-align: right;\n",
       "    }\n",
       "</style>\n",
       "<table border=\"1\" class=\"dataframe\">\n",
       "  <thead>\n",
       "    <tr style=\"text-align: right;\">\n",
       "      <th></th>\n",
       "      <th>Wkdy</th>\n",
       "      <th>Hd</th>\n",
       "      <th>Sd</th>\n",
       "      <th>Sect</th>\n",
       "      <th>ECons</th>\n",
       "      <th>SEle</th>\n",
       "      <th>CCov</th>\n",
       "      <th>DPnt</th>\n",
       "      <th>HFra</th>\n",
       "      <th>PWat</th>\n",
       "      <th>Temp</th>\n",
       "      <th>Vis</th>\n",
       "    </tr>\n",
       "    <tr>\n",
       "      <th>date</th>\n",
       "      <th></th>\n",
       "      <th></th>\n",
       "      <th></th>\n",
       "      <th></th>\n",
       "      <th></th>\n",
       "      <th></th>\n",
       "      <th></th>\n",
       "      <th></th>\n",
       "      <th></th>\n",
       "      <th></th>\n",
       "      <th></th>\n",
       "      <th></th>\n",
       "    </tr>\n",
       "  </thead>\n",
       "  <tbody>\n",
       "    <tr>\n",
       "      <th>1/1/1991 0:00</th>\n",
       "      <td>Sun</td>\n",
       "      <td>hd_1</td>\n",
       "      <td>sd_0</td>\n",
       "      <td>FOOD_SERVICE</td>\n",
       "      <td>0.005416</td>\n",
       "      <td>-68.532769</td>\n",
       "      <td>1.0</td>\n",
       "      <td>-8.9</td>\n",
       "      <td>0.81</td>\n",
       "      <td>6</td>\n",
       "      <td>-6.1</td>\n",
       "      <td>4.0</td>\n",
       "    </tr>\n",
       "    <tr>\n",
       "      <th>1/1/1991 0:00</th>\n",
       "      <td>Sun</td>\n",
       "      <td>hd_1</td>\n",
       "      <td>sd_0</td>\n",
       "      <td>GROCERY</td>\n",
       "      <td>0.002030</td>\n",
       "      <td>-68.532769</td>\n",
       "      <td>1.0</td>\n",
       "      <td>-8.9</td>\n",
       "      <td>0.81</td>\n",
       "      <td>6</td>\n",
       "      <td>-6.1</td>\n",
       "      <td>4.0</td>\n",
       "    </tr>\n",
       "  </tbody>\n",
       "</table>\n",
       "</div>"
      ],
      "text/plain": [
       "              Wkdy    Hd    Sd          Sect     ECons       SEle  CCov  DPnt  \\\n",
       "date                                                                            \n",
       "1/1/1991 0:00  Sun  hd_1  sd_0  FOOD_SERVICE  0.005416 -68.532769   1.0  -8.9   \n",
       "1/1/1991 0:00  Sun  hd_1  sd_0       GROCERY  0.002030 -68.532769   1.0  -8.9   \n",
       "\n",
       "               HFra  PWat  Temp  Vis  \n",
       "date                                  \n",
       "1/1/1991 0:00  0.81     6  -6.1  4.0  \n",
       "1/1/1991 0:00  0.81     6  -6.1  4.0  "
      ]
     },
     "execution_count": 11,
     "metadata": {},
     "output_type": "execute_result"
    }
   ],
   "source": [
    "cons1[:2]"
   ]
  },
  {
   "cell_type": "code",
   "execution_count": 12,
   "metadata": {},
   "outputs": [
    {
     "data": {
      "text/html": [
       "<div>\n",
       "<style scoped>\n",
       "    .dataframe tbody tr th:only-of-type {\n",
       "        vertical-align: middle;\n",
       "    }\n",
       "\n",
       "    .dataframe tbody tr th {\n",
       "        vertical-align: top;\n",
       "    }\n",
       "\n",
       "    .dataframe thead th {\n",
       "        text-align: right;\n",
       "    }\n",
       "</style>\n",
       "<table border=\"1\" class=\"dataframe\">\n",
       "  <thead>\n",
       "    <tr style=\"text-align: right;\">\n",
       "      <th></th>\n",
       "      <th>Fri</th>\n",
       "      <th>Mon</th>\n",
       "      <th>Sat</th>\n",
       "      <th>Sun</th>\n",
       "      <th>Thu</th>\n",
       "      <th>Tue</th>\n",
       "      <th>Wed</th>\n",
       "    </tr>\n",
       "    <tr>\n",
       "      <th>date</th>\n",
       "      <th></th>\n",
       "      <th></th>\n",
       "      <th></th>\n",
       "      <th></th>\n",
       "      <th></th>\n",
       "      <th></th>\n",
       "      <th></th>\n",
       "    </tr>\n",
       "  </thead>\n",
       "  <tbody>\n",
       "    <tr>\n",
       "      <th>1/1/1991 0:00</th>\n",
       "      <td>0</td>\n",
       "      <td>0</td>\n",
       "      <td>0</td>\n",
       "      <td>1</td>\n",
       "      <td>0</td>\n",
       "      <td>0</td>\n",
       "      <td>0</td>\n",
       "    </tr>\n",
       "    <tr>\n",
       "      <th>1/1/1991 0:00</th>\n",
       "      <td>0</td>\n",
       "      <td>0</td>\n",
       "      <td>0</td>\n",
       "      <td>1</td>\n",
       "      <td>0</td>\n",
       "      <td>0</td>\n",
       "      <td>0</td>\n",
       "    </tr>\n",
       "  </tbody>\n",
       "</table>\n",
       "</div>"
      ],
      "text/plain": [
       "               Fri  Mon  Sat  Sun  Thu  Tue  Wed\n",
       "date                                            \n",
       "1/1/1991 0:00    0    0    0    1    0    0    0\n",
       "1/1/1991 0:00    0    0    0    1    0    0    0"
      ]
     },
     "execution_count": 12,
     "metadata": {},
     "output_type": "execute_result"
    }
   ],
   "source": [
    "#creating binary dummy variables for categorical variables\n",
    "Wkdy_dummies = pd.get_dummies(cons1.Wkdy)\n",
    "Wkdy_dummies[:2]"
   ]
  },
  {
   "cell_type": "code",
   "execution_count": 13,
   "metadata": {},
   "outputs": [
    {
     "data": {
      "text/html": [
       "<div>\n",
       "<style scoped>\n",
       "    .dataframe tbody tr th:only-of-type {\n",
       "        vertical-align: middle;\n",
       "    }\n",
       "\n",
       "    .dataframe tbody tr th {\n",
       "        vertical-align: top;\n",
       "    }\n",
       "\n",
       "    .dataframe thead th {\n",
       "        text-align: right;\n",
       "    }\n",
       "</style>\n",
       "<table border=\"1\" class=\"dataframe\">\n",
       "  <thead>\n",
       "    <tr style=\"text-align: right;\">\n",
       "      <th></th>\n",
       "      <th>hd_0</th>\n",
       "      <th>hd_1</th>\n",
       "    </tr>\n",
       "    <tr>\n",
       "      <th>date</th>\n",
       "      <th></th>\n",
       "      <th></th>\n",
       "    </tr>\n",
       "  </thead>\n",
       "  <tbody>\n",
       "    <tr>\n",
       "      <th>1/1/1991 0:00</th>\n",
       "      <td>0</td>\n",
       "      <td>1</td>\n",
       "    </tr>\n",
       "    <tr>\n",
       "      <th>1/1/1991 0:00</th>\n",
       "      <td>0</td>\n",
       "      <td>1</td>\n",
       "    </tr>\n",
       "  </tbody>\n",
       "</table>\n",
       "</div>"
      ],
      "text/plain": [
       "               hd_0  hd_1\n",
       "date                     \n",
       "1/1/1991 0:00     0     1\n",
       "1/1/1991 0:00     0     1"
      ]
     },
     "execution_count": 13,
     "metadata": {},
     "output_type": "execute_result"
    }
   ],
   "source": [
    "Hd_dummies = pd.get_dummies(cons1.Hd)\n",
    "Hd_dummies[:2]"
   ]
  },
  {
   "cell_type": "code",
   "execution_count": 14,
   "metadata": {},
   "outputs": [
    {
     "data": {
      "text/html": [
       "<div>\n",
       "<style scoped>\n",
       "    .dataframe tbody tr th:only-of-type {\n",
       "        vertical-align: middle;\n",
       "    }\n",
       "\n",
       "    .dataframe tbody tr th {\n",
       "        vertical-align: top;\n",
       "    }\n",
       "\n",
       "    .dataframe thead th {\n",
       "        text-align: right;\n",
       "    }\n",
       "</style>\n",
       "<table border=\"1\" class=\"dataframe\">\n",
       "  <thead>\n",
       "    <tr style=\"text-align: right;\">\n",
       "      <th></th>\n",
       "      <th>sd_0</th>\n",
       "      <th>sd_1</th>\n",
       "    </tr>\n",
       "    <tr>\n",
       "      <th>date</th>\n",
       "      <th></th>\n",
       "      <th></th>\n",
       "    </tr>\n",
       "  </thead>\n",
       "  <tbody>\n",
       "    <tr>\n",
       "      <th>1/1/1991 0:00</th>\n",
       "      <td>1</td>\n",
       "      <td>0</td>\n",
       "    </tr>\n",
       "    <tr>\n",
       "      <th>1/1/1991 0:00</th>\n",
       "      <td>1</td>\n",
       "      <td>0</td>\n",
       "    </tr>\n",
       "  </tbody>\n",
       "</table>\n",
       "</div>"
      ],
      "text/plain": [
       "               sd_0  sd_1\n",
       "date                     \n",
       "1/1/1991 0:00     1     0\n",
       "1/1/1991 0:00     1     0"
      ]
     },
     "execution_count": 14,
     "metadata": {},
     "output_type": "execute_result"
    }
   ],
   "source": [
    "Sd_dummies = pd.get_dummies(cons1.Sd)\n",
    "Sd_dummies[:2]"
   ]
  },
  {
   "cell_type": "code",
   "execution_count": 15,
   "metadata": {},
   "outputs": [
    {
     "data": {
      "text/html": [
       "<div>\n",
       "<style scoped>\n",
       "    .dataframe tbody tr th:only-of-type {\n",
       "        vertical-align: middle;\n",
       "    }\n",
       "\n",
       "    .dataframe tbody tr th {\n",
       "        vertical-align: top;\n",
       "    }\n",
       "\n",
       "    .dataframe thead th {\n",
       "        text-align: right;\n",
       "    }\n",
       "</style>\n",
       "<table border=\"1\" class=\"dataframe\">\n",
       "  <thead>\n",
       "    <tr style=\"text-align: right;\">\n",
       "      <th></th>\n",
       "      <th>FOOD_SERVICE</th>\n",
       "      <th>GROCERY</th>\n",
       "      <th>HEALTH_CARE</th>\n",
       "      <th>K12_SCHOOLS</th>\n",
       "      <th>LODGING</th>\n",
       "      <th>OFFICE</th>\n",
       "      <th>RESIDENTIAL</th>\n",
       "      <th>STAND_ALONE_RETAIL</th>\n",
       "    </tr>\n",
       "    <tr>\n",
       "      <th>date</th>\n",
       "      <th></th>\n",
       "      <th></th>\n",
       "      <th></th>\n",
       "      <th></th>\n",
       "      <th></th>\n",
       "      <th></th>\n",
       "      <th></th>\n",
       "      <th></th>\n",
       "    </tr>\n",
       "  </thead>\n",
       "  <tbody>\n",
       "    <tr>\n",
       "      <th>1/1/1991 0:00</th>\n",
       "      <td>1</td>\n",
       "      <td>0</td>\n",
       "      <td>0</td>\n",
       "      <td>0</td>\n",
       "      <td>0</td>\n",
       "      <td>0</td>\n",
       "      <td>0</td>\n",
       "      <td>0</td>\n",
       "    </tr>\n",
       "    <tr>\n",
       "      <th>1/1/1991 0:00</th>\n",
       "      <td>0</td>\n",
       "      <td>1</td>\n",
       "      <td>0</td>\n",
       "      <td>0</td>\n",
       "      <td>0</td>\n",
       "      <td>0</td>\n",
       "      <td>0</td>\n",
       "      <td>0</td>\n",
       "    </tr>\n",
       "  </tbody>\n",
       "</table>\n",
       "</div>"
      ],
      "text/plain": [
       "               FOOD_SERVICE  GROCERY  HEALTH_CARE  K12_SCHOOLS  LODGING  \\\n",
       "date                                                                      \n",
       "1/1/1991 0:00             1        0            0            0        0   \n",
       "1/1/1991 0:00             0        1            0            0        0   \n",
       "\n",
       "               OFFICE  RESIDENTIAL  STAND_ALONE_RETAIL  \n",
       "date                                                    \n",
       "1/1/1991 0:00       0            0                   0  \n",
       "1/1/1991 0:00       0            0                   0  "
      ]
     },
     "execution_count": 15,
     "metadata": {},
     "output_type": "execute_result"
    }
   ],
   "source": [
    "Sect_dummies = pd.get_dummies(cons1.Sect)\n",
    "Sect_dummies[:2]"
   ]
  },
  {
   "cell_type": "code",
   "execution_count": 16,
   "metadata": {},
   "outputs": [
    {
     "data": {
      "text/html": [
       "<div>\n",
       "<style scoped>\n",
       "    .dataframe tbody tr th:only-of-type {\n",
       "        vertical-align: middle;\n",
       "    }\n",
       "\n",
       "    .dataframe tbody tr th {\n",
       "        vertical-align: top;\n",
       "    }\n",
       "\n",
       "    .dataframe thead th {\n",
       "        text-align: right;\n",
       "    }\n",
       "</style>\n",
       "<table border=\"1\" class=\"dataframe\">\n",
       "  <thead>\n",
       "    <tr style=\"text-align: right;\">\n",
       "      <th></th>\n",
       "      <th>Wkdy</th>\n",
       "      <th>Hd</th>\n",
       "      <th>Sd</th>\n",
       "      <th>Sect</th>\n",
       "      <th>ECons</th>\n",
       "      <th>SEle</th>\n",
       "      <th>CCov</th>\n",
       "      <th>DPnt</th>\n",
       "      <th>HFra</th>\n",
       "      <th>PWat</th>\n",
       "      <th>...</th>\n",
       "      <th>sd_0</th>\n",
       "      <th>sd_1</th>\n",
       "      <th>FOOD_SERVICE</th>\n",
       "      <th>GROCERY</th>\n",
       "      <th>HEALTH_CARE</th>\n",
       "      <th>K12_SCHOOLS</th>\n",
       "      <th>LODGING</th>\n",
       "      <th>OFFICE</th>\n",
       "      <th>RESIDENTIAL</th>\n",
       "      <th>STAND_ALONE_RETAIL</th>\n",
       "    </tr>\n",
       "    <tr>\n",
       "      <th>date</th>\n",
       "      <th></th>\n",
       "      <th></th>\n",
       "      <th></th>\n",
       "      <th></th>\n",
       "      <th></th>\n",
       "      <th></th>\n",
       "      <th></th>\n",
       "      <th></th>\n",
       "      <th></th>\n",
       "      <th></th>\n",
       "      <th></th>\n",
       "      <th></th>\n",
       "      <th></th>\n",
       "      <th></th>\n",
       "      <th></th>\n",
       "      <th></th>\n",
       "      <th></th>\n",
       "      <th></th>\n",
       "      <th></th>\n",
       "      <th></th>\n",
       "      <th></th>\n",
       "    </tr>\n",
       "  </thead>\n",
       "  <tbody>\n",
       "    <tr>\n",
       "      <th>1/1/1991 0:00</th>\n",
       "      <td>Sun</td>\n",
       "      <td>hd_1</td>\n",
       "      <td>sd_0</td>\n",
       "      <td>FOOD_SERVICE</td>\n",
       "      <td>0.005416</td>\n",
       "      <td>-68.532769</td>\n",
       "      <td>1.0</td>\n",
       "      <td>-8.9</td>\n",
       "      <td>0.81</td>\n",
       "      <td>6</td>\n",
       "      <td>...</td>\n",
       "      <td>1</td>\n",
       "      <td>0</td>\n",
       "      <td>1</td>\n",
       "      <td>0</td>\n",
       "      <td>0</td>\n",
       "      <td>0</td>\n",
       "      <td>0</td>\n",
       "      <td>0</td>\n",
       "      <td>0</td>\n",
       "      <td>0</td>\n",
       "    </tr>\n",
       "    <tr>\n",
       "      <th>1/1/1991 0:00</th>\n",
       "      <td>Sun</td>\n",
       "      <td>hd_1</td>\n",
       "      <td>sd_0</td>\n",
       "      <td>GROCERY</td>\n",
       "      <td>0.002030</td>\n",
       "      <td>-68.532769</td>\n",
       "      <td>1.0</td>\n",
       "      <td>-8.9</td>\n",
       "      <td>0.81</td>\n",
       "      <td>6</td>\n",
       "      <td>...</td>\n",
       "      <td>1</td>\n",
       "      <td>0</td>\n",
       "      <td>0</td>\n",
       "      <td>1</td>\n",
       "      <td>0</td>\n",
       "      <td>0</td>\n",
       "      <td>0</td>\n",
       "      <td>0</td>\n",
       "      <td>0</td>\n",
       "      <td>0</td>\n",
       "    </tr>\n",
       "    <tr>\n",
       "      <th>1/1/1991 0:00</th>\n",
       "      <td>Sun</td>\n",
       "      <td>hd_1</td>\n",
       "      <td>sd_0</td>\n",
       "      <td>HEALTH_CARE</td>\n",
       "      <td>0.002390</td>\n",
       "      <td>-68.532769</td>\n",
       "      <td>1.0</td>\n",
       "      <td>-8.9</td>\n",
       "      <td>0.81</td>\n",
       "      <td>6</td>\n",
       "      <td>...</td>\n",
       "      <td>1</td>\n",
       "      <td>0</td>\n",
       "      <td>0</td>\n",
       "      <td>0</td>\n",
       "      <td>1</td>\n",
       "      <td>0</td>\n",
       "      <td>0</td>\n",
       "      <td>0</td>\n",
       "      <td>0</td>\n",
       "      <td>0</td>\n",
       "    </tr>\n",
       "  </tbody>\n",
       "</table>\n",
       "<p>3 rows × 31 columns</p>\n",
       "</div>"
      ],
      "text/plain": [
       "              Wkdy    Hd    Sd          Sect     ECons       SEle  CCov  DPnt  \\\n",
       "date                                                                            \n",
       "1/1/1991 0:00  Sun  hd_1  sd_0  FOOD_SERVICE  0.005416 -68.532769   1.0  -8.9   \n",
       "1/1/1991 0:00  Sun  hd_1  sd_0       GROCERY  0.002030 -68.532769   1.0  -8.9   \n",
       "1/1/1991 0:00  Sun  hd_1  sd_0   HEALTH_CARE  0.002390 -68.532769   1.0  -8.9   \n",
       "\n",
       "               HFra  PWat  ...  sd_0  sd_1  FOOD_SERVICE  GROCERY  \\\n",
       "date                       ...                                      \n",
       "1/1/1991 0:00  0.81     6  ...     1     0             1        0   \n",
       "1/1/1991 0:00  0.81     6  ...     1     0             0        1   \n",
       "1/1/1991 0:00  0.81     6  ...     1     0             0        0   \n",
       "\n",
       "               HEALTH_CARE  K12_SCHOOLS  LODGING  OFFICE  RESIDENTIAL  \\\n",
       "date                                                                    \n",
       "1/1/1991 0:00            0            0        0       0            0   \n",
       "1/1/1991 0:00            0            0        0       0            0   \n",
       "1/1/1991 0:00            1            0        0       0            0   \n",
       "\n",
       "               STAND_ALONE_RETAIL  \n",
       "date                               \n",
       "1/1/1991 0:00                   0  \n",
       "1/1/1991 0:00                   0  \n",
       "1/1/1991 0:00                   0  \n",
       "\n",
       "[3 rows x 31 columns]"
      ]
     },
     "execution_count": 16,
     "metadata": {},
     "output_type": "execute_result"
    }
   ],
   "source": [
    "#concatinating the hotendcoded variables to the dataframe\n",
    "cons1_concat = pd.concat([cons1,Wkdy_dummies,Hd_dummies,Sd_dummies,Sect_dummies], axis='columns') \n",
    "cons1_concat[:3]"
   ]
  },
  {
   "cell_type": "code",
   "execution_count": 17,
   "metadata": {},
   "outputs": [
    {
     "data": {
      "text/html": [
       "<div>\n",
       "<style scoped>\n",
       "    .dataframe tbody tr th:only-of-type {\n",
       "        vertical-align: middle;\n",
       "    }\n",
       "\n",
       "    .dataframe tbody tr th {\n",
       "        vertical-align: top;\n",
       "    }\n",
       "\n",
       "    .dataframe thead th {\n",
       "        text-align: right;\n",
       "    }\n",
       "</style>\n",
       "<table border=\"1\" class=\"dataframe\">\n",
       "  <thead>\n",
       "    <tr style=\"text-align: right;\">\n",
       "      <th></th>\n",
       "      <th>ECons</th>\n",
       "      <th>SEle</th>\n",
       "      <th>CCov</th>\n",
       "      <th>DPnt</th>\n",
       "      <th>HFra</th>\n",
       "      <th>PWat</th>\n",
       "      <th>Temp</th>\n",
       "      <th>Vis</th>\n",
       "      <th>Fri</th>\n",
       "      <th>Mon</th>\n",
       "      <th>...</th>\n",
       "      <th>sd_0</th>\n",
       "      <th>sd_1</th>\n",
       "      <th>FOOD_SERVICE</th>\n",
       "      <th>GROCERY</th>\n",
       "      <th>HEALTH_CARE</th>\n",
       "      <th>K12_SCHOOLS</th>\n",
       "      <th>LODGING</th>\n",
       "      <th>OFFICE</th>\n",
       "      <th>RESIDENTIAL</th>\n",
       "      <th>STAND_ALONE_RETAIL</th>\n",
       "    </tr>\n",
       "    <tr>\n",
       "      <th>date</th>\n",
       "      <th></th>\n",
       "      <th></th>\n",
       "      <th></th>\n",
       "      <th></th>\n",
       "      <th></th>\n",
       "      <th></th>\n",
       "      <th></th>\n",
       "      <th></th>\n",
       "      <th></th>\n",
       "      <th></th>\n",
       "      <th></th>\n",
       "      <th></th>\n",
       "      <th></th>\n",
       "      <th></th>\n",
       "      <th></th>\n",
       "      <th></th>\n",
       "      <th></th>\n",
       "      <th></th>\n",
       "      <th></th>\n",
       "      <th></th>\n",
       "      <th></th>\n",
       "    </tr>\n",
       "  </thead>\n",
       "  <tbody>\n",
       "    <tr>\n",
       "      <th>1/1/1991 0:00</th>\n",
       "      <td>0.005416</td>\n",
       "      <td>-68.532769</td>\n",
       "      <td>1.0</td>\n",
       "      <td>-8.9</td>\n",
       "      <td>0.81</td>\n",
       "      <td>6</td>\n",
       "      <td>-6.1</td>\n",
       "      <td>4.0</td>\n",
       "      <td>0</td>\n",
       "      <td>0</td>\n",
       "      <td>...</td>\n",
       "      <td>1</td>\n",
       "      <td>0</td>\n",
       "      <td>1</td>\n",
       "      <td>0</td>\n",
       "      <td>0</td>\n",
       "      <td>0</td>\n",
       "      <td>0</td>\n",
       "      <td>0</td>\n",
       "      <td>0</td>\n",
       "      <td>0</td>\n",
       "    </tr>\n",
       "    <tr>\n",
       "      <th>1/1/1991 0:00</th>\n",
       "      <td>0.002030</td>\n",
       "      <td>-68.532769</td>\n",
       "      <td>1.0</td>\n",
       "      <td>-8.9</td>\n",
       "      <td>0.81</td>\n",
       "      <td>6</td>\n",
       "      <td>-6.1</td>\n",
       "      <td>4.0</td>\n",
       "      <td>0</td>\n",
       "      <td>0</td>\n",
       "      <td>...</td>\n",
       "      <td>1</td>\n",
       "      <td>0</td>\n",
       "      <td>0</td>\n",
       "      <td>1</td>\n",
       "      <td>0</td>\n",
       "      <td>0</td>\n",
       "      <td>0</td>\n",
       "      <td>0</td>\n",
       "      <td>0</td>\n",
       "      <td>0</td>\n",
       "    </tr>\n",
       "    <tr>\n",
       "      <th>1/1/1991 0:00</th>\n",
       "      <td>0.002390</td>\n",
       "      <td>-68.532769</td>\n",
       "      <td>1.0</td>\n",
       "      <td>-8.9</td>\n",
       "      <td>0.81</td>\n",
       "      <td>6</td>\n",
       "      <td>-6.1</td>\n",
       "      <td>4.0</td>\n",
       "      <td>0</td>\n",
       "      <td>0</td>\n",
       "      <td>...</td>\n",
       "      <td>1</td>\n",
       "      <td>0</td>\n",
       "      <td>0</td>\n",
       "      <td>0</td>\n",
       "      <td>1</td>\n",
       "      <td>0</td>\n",
       "      <td>0</td>\n",
       "      <td>0</td>\n",
       "      <td>0</td>\n",
       "      <td>0</td>\n",
       "    </tr>\n",
       "  </tbody>\n",
       "</table>\n",
       "<p>3 rows × 27 columns</p>\n",
       "</div>"
      ],
      "text/plain": [
       "                  ECons       SEle  CCov  DPnt  HFra  PWat  Temp  Vis  Fri  \\\n",
       "date                                                                         \n",
       "1/1/1991 0:00  0.005416 -68.532769   1.0  -8.9  0.81     6  -6.1  4.0    0   \n",
       "1/1/1991 0:00  0.002030 -68.532769   1.0  -8.9  0.81     6  -6.1  4.0    0   \n",
       "1/1/1991 0:00  0.002390 -68.532769   1.0  -8.9  0.81     6  -6.1  4.0    0   \n",
       "\n",
       "               Mon  ...  sd_0  sd_1  FOOD_SERVICE  GROCERY  HEALTH_CARE  \\\n",
       "date                ...                                                   \n",
       "1/1/1991 0:00    0  ...     1     0             1        0            0   \n",
       "1/1/1991 0:00    0  ...     1     0             0        1            0   \n",
       "1/1/1991 0:00    0  ...     1     0             0        0            1   \n",
       "\n",
       "               K12_SCHOOLS  LODGING  OFFICE  RESIDENTIAL  STAND_ALONE_RETAIL  \n",
       "date                                                                          \n",
       "1/1/1991 0:00            0        0       0            0                   0  \n",
       "1/1/1991 0:00            0        0       0            0                   0  \n",
       "1/1/1991 0:00            0        0       0            0                   0  \n",
       "\n",
       "[3 rows x 27 columns]"
      ]
     },
     "execution_count": 17,
     "metadata": {},
     "output_type": "execute_result"
    }
   ],
   "source": [
    "#drop the origial variables that have been hotendcoded \n",
    "cons1_concat1 = cons1_concat.drop(columns=['Wkdy','Hd','Sd','Sect'])\n",
    "cons1_concat1[:3]"
   ]
  },
  {
   "cell_type": "code",
   "execution_count": 18,
   "metadata": {},
   "outputs": [
    {
     "data": {
      "text/plain": [
       "70072"
      ]
     },
     "execution_count": 18,
     "metadata": {},
     "output_type": "execute_result"
    }
   ],
   "source": [
    "ECons = cons1_concat1['ECons']\n",
    "len(ECons)"
   ]
  },
  {
   "cell_type": "code",
   "execution_count": 19,
   "metadata": {},
   "outputs": [],
   "source": [
    "#move ECons to the last column of the dataframe \n",
    "cols = list(cons1_concat1.columns.values) \n",
    "cols.pop(cols.index('ECons')) \n",
    "cons1_concat1 = cons1_concat1[cols+['ECons']]"
   ]
  },
  {
   "cell_type": "code",
   "execution_count": 20,
   "metadata": {},
   "outputs": [
    {
     "data": {
      "text/html": [
       "<div>\n",
       "<style scoped>\n",
       "    .dataframe tbody tr th:only-of-type {\n",
       "        vertical-align: middle;\n",
       "    }\n",
       "\n",
       "    .dataframe tbody tr th {\n",
       "        vertical-align: top;\n",
       "    }\n",
       "\n",
       "    .dataframe thead th {\n",
       "        text-align: right;\n",
       "    }\n",
       "</style>\n",
       "<table border=\"1\" class=\"dataframe\">\n",
       "  <thead>\n",
       "    <tr style=\"text-align: right;\">\n",
       "      <th></th>\n",
       "      <th>SEle</th>\n",
       "      <th>CCov</th>\n",
       "      <th>DPnt</th>\n",
       "      <th>HFra</th>\n",
       "      <th>PWat</th>\n",
       "      <th>Temp</th>\n",
       "      <th>Vis</th>\n",
       "      <th>Fri</th>\n",
       "      <th>Mon</th>\n",
       "      <th>Sat</th>\n",
       "      <th>...</th>\n",
       "      <th>sd_1</th>\n",
       "      <th>FOOD_SERVICE</th>\n",
       "      <th>GROCERY</th>\n",
       "      <th>HEALTH_CARE</th>\n",
       "      <th>K12_SCHOOLS</th>\n",
       "      <th>LODGING</th>\n",
       "      <th>OFFICE</th>\n",
       "      <th>RESIDENTIAL</th>\n",
       "      <th>STAND_ALONE_RETAIL</th>\n",
       "      <th>ECons</th>\n",
       "    </tr>\n",
       "    <tr>\n",
       "      <th>date</th>\n",
       "      <th></th>\n",
       "      <th></th>\n",
       "      <th></th>\n",
       "      <th></th>\n",
       "      <th></th>\n",
       "      <th></th>\n",
       "      <th></th>\n",
       "      <th></th>\n",
       "      <th></th>\n",
       "      <th></th>\n",
       "      <th></th>\n",
       "      <th></th>\n",
       "      <th></th>\n",
       "      <th></th>\n",
       "      <th></th>\n",
       "      <th></th>\n",
       "      <th></th>\n",
       "      <th></th>\n",
       "      <th></th>\n",
       "      <th></th>\n",
       "      <th></th>\n",
       "    </tr>\n",
       "  </thead>\n",
       "  <tbody>\n",
       "    <tr>\n",
       "      <th>1/1/1991 0:00</th>\n",
       "      <td>-68.532769</td>\n",
       "      <td>1.0</td>\n",
       "      <td>-8.9</td>\n",
       "      <td>0.81</td>\n",
       "      <td>6</td>\n",
       "      <td>-6.1</td>\n",
       "      <td>4.0</td>\n",
       "      <td>0</td>\n",
       "      <td>0</td>\n",
       "      <td>0</td>\n",
       "      <td>...</td>\n",
       "      <td>0</td>\n",
       "      <td>1</td>\n",
       "      <td>0</td>\n",
       "      <td>0</td>\n",
       "      <td>0</td>\n",
       "      <td>0</td>\n",
       "      <td>0</td>\n",
       "      <td>0</td>\n",
       "      <td>0</td>\n",
       "      <td>0.005416</td>\n",
       "    </tr>\n",
       "    <tr>\n",
       "      <th>1/1/1991 0:00</th>\n",
       "      <td>-68.532769</td>\n",
       "      <td>1.0</td>\n",
       "      <td>-8.9</td>\n",
       "      <td>0.81</td>\n",
       "      <td>6</td>\n",
       "      <td>-6.1</td>\n",
       "      <td>4.0</td>\n",
       "      <td>0</td>\n",
       "      <td>0</td>\n",
       "      <td>0</td>\n",
       "      <td>...</td>\n",
       "      <td>0</td>\n",
       "      <td>0</td>\n",
       "      <td>1</td>\n",
       "      <td>0</td>\n",
       "      <td>0</td>\n",
       "      <td>0</td>\n",
       "      <td>0</td>\n",
       "      <td>0</td>\n",
       "      <td>0</td>\n",
       "      <td>0.002030</td>\n",
       "    </tr>\n",
       "    <tr>\n",
       "      <th>1/1/1991 0:00</th>\n",
       "      <td>-68.532769</td>\n",
       "      <td>1.0</td>\n",
       "      <td>-8.9</td>\n",
       "      <td>0.81</td>\n",
       "      <td>6</td>\n",
       "      <td>-6.1</td>\n",
       "      <td>4.0</td>\n",
       "      <td>0</td>\n",
       "      <td>0</td>\n",
       "      <td>0</td>\n",
       "      <td>...</td>\n",
       "      <td>0</td>\n",
       "      <td>0</td>\n",
       "      <td>0</td>\n",
       "      <td>1</td>\n",
       "      <td>0</td>\n",
       "      <td>0</td>\n",
       "      <td>0</td>\n",
       "      <td>0</td>\n",
       "      <td>0</td>\n",
       "      <td>0.002390</td>\n",
       "    </tr>\n",
       "  </tbody>\n",
       "</table>\n",
       "<p>3 rows × 27 columns</p>\n",
       "</div>"
      ],
      "text/plain": [
       "                    SEle  CCov  DPnt  HFra  PWat  Temp  Vis  Fri  Mon  Sat  \\\n",
       "date                                                                         \n",
       "1/1/1991 0:00 -68.532769   1.0  -8.9  0.81     6  -6.1  4.0    0    0    0   \n",
       "1/1/1991 0:00 -68.532769   1.0  -8.9  0.81     6  -6.1  4.0    0    0    0   \n",
       "1/1/1991 0:00 -68.532769   1.0  -8.9  0.81     6  -6.1  4.0    0    0    0   \n",
       "\n",
       "               ...  sd_1  FOOD_SERVICE  GROCERY  HEALTH_CARE  K12_SCHOOLS  \\\n",
       "date           ...                                                          \n",
       "1/1/1991 0:00  ...     0             1        0            0            0   \n",
       "1/1/1991 0:00  ...     0             0        1            0            0   \n",
       "1/1/1991 0:00  ...     0             0        0            1            0   \n",
       "\n",
       "               LODGING  OFFICE  RESIDENTIAL  STAND_ALONE_RETAIL     ECons  \n",
       "date                                                                       \n",
       "1/1/1991 0:00        0       0            0                   0  0.005416  \n",
       "1/1/1991 0:00        0       0            0                   0  0.002030  \n",
       "1/1/1991 0:00        0       0            0                   0  0.002390  \n",
       "\n",
       "[3 rows x 27 columns]"
      ]
     },
     "execution_count": 20,
     "metadata": {},
     "output_type": "execute_result"
    }
   ],
   "source": [
    "cons1_concat1[:3]"
   ]
  },
  {
   "cell_type": "code",
   "execution_count": 21,
   "metadata": {},
   "outputs": [],
   "source": [
    "#function to convert time-series data to supervised learning dataframes \n",
    "#this function code is borrowed from this sorce:\n",
    "#https://machinelearningmastery.com/multivariate-time-series-forecasting-lstms-keras/\n",
    "\n",
    "def series_to_supervised(data, n_in=1, n_out=1, dropnan=True):\n",
    "    \"\"\"\n",
    "    Frame a time series as a supervised learning dataset.\n",
    "    Arguments:\n",
    "        data: Sequence of observations as a list or NumPy array.\n",
    "        n_in: Number of lag observations as input (X).\n",
    "        n_out: Number of observations as output (y).\n",
    "        dropnan: Boolean whether or not to drop rows with NaN values.\n",
    "    Returns:\n",
    "        Pandas DataFrame of series framed for supervised learning.\n",
    "    \"\"\"\n",
    "    n_vars = 1 if type(data) is list else data.shape[1]\n",
    "    df = DataFrame(data)\n",
    "    cols, names = list(), list()\n",
    "    # input sequence (t-n, ... t-1)\n",
    "    for i in range(n_in, 0, -1):\n",
    "        cols.append(df.shift(i))\n",
    "        names += [('var%d(t-%d)' % (j+1, i)) for j in range(n_vars)]\n",
    "    # forecast sequence (t, t+1, ... t+n)\n",
    "    for i in range(0, n_out):\n",
    "        cols.append(df.shift(-i))\n",
    "        if i == 0:\n",
    "            names += [('var%d(t)' % (j+1)) for j in range(n_vars)]\n",
    "        else:\n",
    "            names += [('var%d(t+%d)' % (j+1, i)) for j in range(n_vars)]\n",
    "    # put it all together\n",
    "    agg = concat(cols, axis=1)\n",
    "    agg.columns = names\n",
    "    # drop rows with NaN values\n",
    "    if dropnan:\n",
    "        agg.dropna(inplace=True)\n",
    "    return agg"
   ]
  },
  {
   "cell_type": "code",
   "execution_count": 22,
   "metadata": {},
   "outputs": [],
   "source": [
    "#ensure all data is float\n",
    "cons1_concat1 = cons1_concat1.astype('float32')"
   ]
  },
  {
   "cell_type": "code",
   "execution_count": 23,
   "metadata": {},
   "outputs": [],
   "source": [
    "#control switches:\n",
    "ft_norm = 1            # switch for feature normalization: 0=MinMax, 1=Standard(Z-value)"
   ]
  },
  {
   "cell_type": "code",
   "execution_count": 24,
   "metadata": {},
   "outputs": [
    {
     "name": "stdout",
     "output_type": "stream",
     "text": [
      "Standard Normalization Applied\n"
     ]
    },
    {
     "name": "stderr",
     "output_type": "stream",
     "text": [
      "C:\\Users\\ht389\\AppData\\Local\\Continuum\\anaconda3\\lib\\site-packages\\sklearn\\preprocessing\\data.py:645: DataConversionWarning: Data with input dtype float32 were all converted to float64 by StandardScaler.\n",
      "  return self.partial_fit(X, y)\n",
      "C:\\Users\\ht389\\AppData\\Local\\Continuum\\anaconda3\\lib\\site-packages\\sklearn\\base.py:464: DataConversionWarning: Data with input dtype float32 were all converted to float64 by StandardScaler.\n",
      "  return self.fit(X, **fit_params).transform(X)\n"
     ]
    }
   ],
   "source": [
    "#normalize features BEFORE separate input and output of train/validation set\n",
    "if ft_norm == 0:\n",
    "    min_econs = ECons.min()\n",
    "    max_econs = ECons.max()\n",
    "    scaler = MinMaxScaler(feature_range=(0, 1))\n",
    "    cons_normalized = scaler.fit_transform(cons1_concat1)\n",
    "    print('Min Electricity consumed:', min_econs)\n",
    "    print('Max Electricity consumed:', max_econs)\n",
    "    print('MinMax Normalization Applied')\n",
    "    \n",
    "if ft_norm == 1:\n",
    "    scaler = StandardScaler()\n",
    "    cons_normalized = scaler.fit_transform(cons1_concat1)\n",
    "    print('Standard Normalization Applied')"
   ]
  },
  {
   "cell_type": "code",
   "execution_count": 25,
   "metadata": {},
   "outputs": [],
   "source": [
    "#using series_to_supervised(), frame as supervised learning, with 24-hour timesteps\n",
    "cons_reframed = series_to_supervised(cons_normalized, 24, 1)"
   ]
  },
  {
   "cell_type": "code",
   "execution_count": 26,
   "metadata": {},
   "outputs": [
    {
     "data": {
      "text/plain": [
       "(70048, 675)"
      ]
     },
     "execution_count": 26,
     "metadata": {},
     "output_type": "execute_result"
    }
   ],
   "source": [
    "#check shape of reframed data\n",
    "cons_reframed.shape"
   ]
  },
  {
   "cell_type": "code",
   "execution_count": 27,
   "metadata": {},
   "outputs": [
    {
     "data": {
      "text/html": [
       "<div>\n",
       "<style scoped>\n",
       "    .dataframe tbody tr th:only-of-type {\n",
       "        vertical-align: middle;\n",
       "    }\n",
       "\n",
       "    .dataframe tbody tr th {\n",
       "        vertical-align: top;\n",
       "    }\n",
       "\n",
       "    .dataframe thead th {\n",
       "        text-align: right;\n",
       "    }\n",
       "</style>\n",
       "<table border=\"1\" class=\"dataframe\">\n",
       "  <thead>\n",
       "    <tr style=\"text-align: right;\">\n",
       "      <th></th>\n",
       "      <th>var1(t-24)</th>\n",
       "      <th>var2(t-24)</th>\n",
       "      <th>var3(t-24)</th>\n",
       "      <th>var4(t-24)</th>\n",
       "      <th>var5(t-24)</th>\n",
       "      <th>var6(t-24)</th>\n",
       "      <th>var7(t-24)</th>\n",
       "      <th>var8(t-24)</th>\n",
       "      <th>var9(t-24)</th>\n",
       "      <th>var10(t-24)</th>\n",
       "      <th>...</th>\n",
       "      <th>var18(t)</th>\n",
       "      <th>var19(t)</th>\n",
       "      <th>var20(t)</th>\n",
       "      <th>var21(t)</th>\n",
       "      <th>var22(t)</th>\n",
       "      <th>var23(t)</th>\n",
       "      <th>var24(t)</th>\n",
       "      <th>var25(t)</th>\n",
       "      <th>var26(t)</th>\n",
       "      <th>var27(t)</th>\n",
       "    </tr>\n",
       "  </thead>\n",
       "  <tbody>\n",
       "    <tr>\n",
       "      <th>24</th>\n",
       "      <td>-1.980616</td>\n",
       "      <td>0.889198</td>\n",
       "      <td>-1.210853</td>\n",
       "      <td>0.331684</td>\n",
       "      <td>-1.105272</td>\n",
       "      <td>-1.282816</td>\n",
       "      <td>-1.500709</td>\n",
       "      <td>-0.407623</td>\n",
       "      <td>-0.407623</td>\n",
       "      <td>-0.407623</td>\n",
       "      <td>...</td>\n",
       "      <td>-0.933585</td>\n",
       "      <td>2.645751</td>\n",
       "      <td>-0.377964</td>\n",
       "      <td>-0.377964</td>\n",
       "      <td>-0.377964</td>\n",
       "      <td>-0.377964</td>\n",
       "      <td>-0.377964</td>\n",
       "      <td>-0.377964</td>\n",
       "      <td>-0.377964</td>\n",
       "      <td>0.292527</td>\n",
       "    </tr>\n",
       "    <tr>\n",
       "      <th>25</th>\n",
       "      <td>-1.980616</td>\n",
       "      <td>0.889198</td>\n",
       "      <td>-1.210853</td>\n",
       "      <td>0.331684</td>\n",
       "      <td>-1.105272</td>\n",
       "      <td>-1.282816</td>\n",
       "      <td>-1.500709</td>\n",
       "      <td>-0.407623</td>\n",
       "      <td>-0.407623</td>\n",
       "      <td>-0.407623</td>\n",
       "      <td>...</td>\n",
       "      <td>-0.933585</td>\n",
       "      <td>-0.377964</td>\n",
       "      <td>2.645751</td>\n",
       "      <td>-0.377964</td>\n",
       "      <td>-0.377964</td>\n",
       "      <td>-0.377964</td>\n",
       "      <td>-0.377964</td>\n",
       "      <td>-0.377964</td>\n",
       "      <td>-0.377964</td>\n",
       "      <td>-0.323421</td>\n",
       "    </tr>\n",
       "    <tr>\n",
       "      <th>26</th>\n",
       "      <td>-1.980616</td>\n",
       "      <td>0.889198</td>\n",
       "      <td>-1.210853</td>\n",
       "      <td>0.331684</td>\n",
       "      <td>-1.105272</td>\n",
       "      <td>-1.282816</td>\n",
       "      <td>-1.500709</td>\n",
       "      <td>-0.407623</td>\n",
       "      <td>-0.407623</td>\n",
       "      <td>-0.407623</td>\n",
       "      <td>...</td>\n",
       "      <td>-0.933585</td>\n",
       "      <td>-0.377964</td>\n",
       "      <td>-0.377964</td>\n",
       "      <td>2.645751</td>\n",
       "      <td>-0.377964</td>\n",
       "      <td>-0.377964</td>\n",
       "      <td>-0.377964</td>\n",
       "      <td>-0.377964</td>\n",
       "      <td>-0.377964</td>\n",
       "      <td>-0.203496</td>\n",
       "    </tr>\n",
       "  </tbody>\n",
       "</table>\n",
       "<p>3 rows × 675 columns</p>\n",
       "</div>"
      ],
      "text/plain": [
       "    var1(t-24)  var2(t-24)  var3(t-24)  var4(t-24)  var5(t-24)  var6(t-24)  \\\n",
       "24   -1.980616    0.889198   -1.210853    0.331684   -1.105272   -1.282816   \n",
       "25   -1.980616    0.889198   -1.210853    0.331684   -1.105272   -1.282816   \n",
       "26   -1.980616    0.889198   -1.210853    0.331684   -1.105272   -1.282816   \n",
       "\n",
       "    var7(t-24)  var8(t-24)  var9(t-24)  var10(t-24)  ...  var18(t)  var19(t)  \\\n",
       "24   -1.500709   -0.407623   -0.407623    -0.407623  ... -0.933585  2.645751   \n",
       "25   -1.500709   -0.407623   -0.407623    -0.407623  ... -0.933585 -0.377964   \n",
       "26   -1.500709   -0.407623   -0.407623    -0.407623  ... -0.933585 -0.377964   \n",
       "\n",
       "    var20(t)  var21(t)  var22(t)  var23(t)  var24(t)  var25(t)  var26(t)  \\\n",
       "24 -0.377964 -0.377964 -0.377964 -0.377964 -0.377964 -0.377964 -0.377964   \n",
       "25  2.645751 -0.377964 -0.377964 -0.377964 -0.377964 -0.377964 -0.377964   \n",
       "26 -0.377964  2.645751 -0.377964 -0.377964 -0.377964 -0.377964 -0.377964   \n",
       "\n",
       "    var27(t)  \n",
       "24  0.292527  \n",
       "25 -0.323421  \n",
       "26 -0.203496  \n",
       "\n",
       "[3 rows x 675 columns]"
      ]
     },
     "execution_count": 27,
     "metadata": {},
     "output_type": "execute_result"
    }
   ],
   "source": [
    "cons_reframed[:3]"
   ]
  },
  {
   "cell_type": "code",
   "execution_count": 28,
   "metadata": {},
   "outputs": [
    {
     "data": {
      "text/plain": [
       "675"
      ]
     },
     "execution_count": 28,
     "metadata": {},
     "output_type": "execute_result"
    }
   ],
   "source": [
    "#for the last 27 columns (at time t), drop all except for the electricity consumption column which is column var27(t)\n",
    "#var27(t) will be y target values used for training the model\n",
    "cols_reframed = cons_reframed.shape[1]\n",
    "cols_reframed"
   ]
  },
  {
   "cell_type": "code",
   "execution_count": 29,
   "metadata": {},
   "outputs": [
    {
     "name": "stdout",
     "output_type": "stream",
     "text": [
      "[648, 649, 650, 651, 652, 653, 654, 655, 656, 657, 658, 659, 660, 661, 662, 663, 664, 665, 666, 667, 668, 669, 670, 671, 672, 673]\n"
     ]
    },
    {
     "data": {
      "text/plain": [
       "26"
      ]
     },
     "execution_count": 29,
     "metadata": {},
     "output_type": "execute_result"
    }
   ],
   "source": [
    "cols_drop = [x for x in range(cols_reframed-27,cols_reframed-1)]\n",
    "print(cols_drop)\n",
    "len(cols_drop)"
   ]
  },
  {
   "cell_type": "code",
   "execution_count": 30,
   "metadata": {},
   "outputs": [
    {
     "data": {
      "text/html": [
       "<div>\n",
       "<style scoped>\n",
       "    .dataframe tbody tr th:only-of-type {\n",
       "        vertical-align: middle;\n",
       "    }\n",
       "\n",
       "    .dataframe tbody tr th {\n",
       "        vertical-align: top;\n",
       "    }\n",
       "\n",
       "    .dataframe thead th {\n",
       "        text-align: right;\n",
       "    }\n",
       "</style>\n",
       "<table border=\"1\" class=\"dataframe\">\n",
       "  <thead>\n",
       "    <tr style=\"text-align: right;\">\n",
       "      <th></th>\n",
       "      <th>var1(t-24)</th>\n",
       "      <th>var2(t-24)</th>\n",
       "      <th>var3(t-24)</th>\n",
       "      <th>var4(t-24)</th>\n",
       "      <th>var5(t-24)</th>\n",
       "      <th>var6(t-24)</th>\n",
       "      <th>var7(t-24)</th>\n",
       "      <th>var8(t-24)</th>\n",
       "      <th>var9(t-24)</th>\n",
       "      <th>var10(t-24)</th>\n",
       "      <th>...</th>\n",
       "      <th>var19(t-1)</th>\n",
       "      <th>var20(t-1)</th>\n",
       "      <th>var21(t-1)</th>\n",
       "      <th>var22(t-1)</th>\n",
       "      <th>var23(t-1)</th>\n",
       "      <th>var24(t-1)</th>\n",
       "      <th>var25(t-1)</th>\n",
       "      <th>var26(t-1)</th>\n",
       "      <th>var27(t-1)</th>\n",
       "      <th>var27(t)</th>\n",
       "    </tr>\n",
       "  </thead>\n",
       "  <tbody>\n",
       "    <tr>\n",
       "      <th>24</th>\n",
       "      <td>-1.980616</td>\n",
       "      <td>0.889198</td>\n",
       "      <td>-1.210853</td>\n",
       "      <td>0.331684</td>\n",
       "      <td>-1.105272</td>\n",
       "      <td>-1.282816</td>\n",
       "      <td>-1.500709</td>\n",
       "      <td>-0.407623</td>\n",
       "      <td>-0.407623</td>\n",
       "      <td>-0.407623</td>\n",
       "      <td>...</td>\n",
       "      <td>-0.377964</td>\n",
       "      <td>-0.377964</td>\n",
       "      <td>-0.377964</td>\n",
       "      <td>-0.377964</td>\n",
       "      <td>-0.377964</td>\n",
       "      <td>-0.377964</td>\n",
       "      <td>-0.377964</td>\n",
       "      <td>2.645751</td>\n",
       "      <td>-0.878846</td>\n",
       "      <td>0.292527</td>\n",
       "    </tr>\n",
       "    <tr>\n",
       "      <th>25</th>\n",
       "      <td>-1.980616</td>\n",
       "      <td>0.889198</td>\n",
       "      <td>-1.210853</td>\n",
       "      <td>0.331684</td>\n",
       "      <td>-1.105272</td>\n",
       "      <td>-1.282816</td>\n",
       "      <td>-1.500709</td>\n",
       "      <td>-0.407623</td>\n",
       "      <td>-0.407623</td>\n",
       "      <td>-0.407623</td>\n",
       "      <td>...</td>\n",
       "      <td>2.645751</td>\n",
       "      <td>-0.377964</td>\n",
       "      <td>-0.377964</td>\n",
       "      <td>-0.377964</td>\n",
       "      <td>-0.377964</td>\n",
       "      <td>-0.377964</td>\n",
       "      <td>-0.377964</td>\n",
       "      <td>-0.377964</td>\n",
       "      <td>0.292527</td>\n",
       "      <td>-0.323421</td>\n",
       "    </tr>\n",
       "    <tr>\n",
       "      <th>26</th>\n",
       "      <td>-1.980616</td>\n",
       "      <td>0.889198</td>\n",
       "      <td>-1.210853</td>\n",
       "      <td>0.331684</td>\n",
       "      <td>-1.105272</td>\n",
       "      <td>-1.282816</td>\n",
       "      <td>-1.500709</td>\n",
       "      <td>-0.407623</td>\n",
       "      <td>-0.407623</td>\n",
       "      <td>-0.407623</td>\n",
       "      <td>...</td>\n",
       "      <td>-0.377964</td>\n",
       "      <td>2.645751</td>\n",
       "      <td>-0.377964</td>\n",
       "      <td>-0.377964</td>\n",
       "      <td>-0.377964</td>\n",
       "      <td>-0.377964</td>\n",
       "      <td>-0.377964</td>\n",
       "      <td>-0.377964</td>\n",
       "      <td>-0.323421</td>\n",
       "      <td>-0.203496</td>\n",
       "    </tr>\n",
       "  </tbody>\n",
       "</table>\n",
       "<p>3 rows × 649 columns</p>\n",
       "</div>"
      ],
      "text/plain": [
       "    var1(t-24)  var2(t-24)  var3(t-24)  var4(t-24)  var5(t-24)  var6(t-24)  \\\n",
       "24   -1.980616    0.889198   -1.210853    0.331684   -1.105272   -1.282816   \n",
       "25   -1.980616    0.889198   -1.210853    0.331684   -1.105272   -1.282816   \n",
       "26   -1.980616    0.889198   -1.210853    0.331684   -1.105272   -1.282816   \n",
       "\n",
       "    var7(t-24)  var8(t-24)  var9(t-24)  var10(t-24)  ...  var19(t-1)  \\\n",
       "24   -1.500709   -0.407623   -0.407623    -0.407623  ...   -0.377964   \n",
       "25   -1.500709   -0.407623   -0.407623    -0.407623  ...    2.645751   \n",
       "26   -1.500709   -0.407623   -0.407623    -0.407623  ...   -0.377964   \n",
       "\n",
       "    var20(t-1)  var21(t-1)  var22(t-1)  var23(t-1)  var24(t-1)  var25(t-1)  \\\n",
       "24   -0.377964   -0.377964   -0.377964   -0.377964   -0.377964   -0.377964   \n",
       "25   -0.377964   -0.377964   -0.377964   -0.377964   -0.377964   -0.377964   \n",
       "26    2.645751   -0.377964   -0.377964   -0.377964   -0.377964   -0.377964   \n",
       "\n",
       "    var26(t-1)  var27(t-1)  var27(t)  \n",
       "24    2.645751   -0.878846  0.292527  \n",
       "25   -0.377964    0.292527 -0.323421  \n",
       "26   -0.377964   -0.323421 -0.203496  \n",
       "\n",
       "[3 rows x 649 columns]"
      ]
     },
     "execution_count": 30,
     "metadata": {},
     "output_type": "execute_result"
    }
   ],
   "source": [
    "cons_reframed.drop(cons_reframed.columns[cols_drop], axis=1, inplace=True)\n",
    "cons_reframed[:3]"
   ]
  },
  {
   "cell_type": "code",
   "execution_count": 31,
   "metadata": {},
   "outputs": [
    {
     "data": {
      "text/plain": [
       "(70048, 649)"
      ]
     },
     "execution_count": 31,
     "metadata": {},
     "output_type": "execute_result"
    }
   ],
   "source": [
    "cons_reframed.shape"
   ]
  },
  {
   "cell_type": "code",
   "execution_count": 32,
   "metadata": {},
   "outputs": [],
   "source": [
    "#split reframed data into train and test sets, with train/test proportions of 75/25\n",
    "cons_train, cons_test = train_test_split(cons_reframed, test_size=0.25, shuffle=False)"
   ]
  },
  {
   "cell_type": "code",
   "execution_count": 33,
   "metadata": {},
   "outputs": [],
   "source": [
    "#split train data into train and validation sets, with train/validation proportions of 80/20\n",
    "cons_train, cons_val = train_test_split(cons_train, test_size=0.20, shuffle=False)"
   ]
  },
  {
   "cell_type": "code",
   "execution_count": 34,
   "metadata": {},
   "outputs": [
    {
     "data": {
      "text/plain": [
       "(42028, 649)"
      ]
     },
     "execution_count": 34,
     "metadata": {},
     "output_type": "execute_result"
    }
   ],
   "source": [
    "cons_train.shape"
   ]
  },
  {
   "cell_type": "code",
   "execution_count": 35,
   "metadata": {},
   "outputs": [
    {
     "data": {
      "text/plain": [
       "(10508, 649)"
      ]
     },
     "execution_count": 35,
     "metadata": {},
     "output_type": "execute_result"
    }
   ],
   "source": [
    "cons_val.shape"
   ]
  },
  {
   "cell_type": "code",
   "execution_count": 36,
   "metadata": {},
   "outputs": [
    {
     "data": {
      "text/plain": [
       "(17512, 649)"
      ]
     },
     "execution_count": 36,
     "metadata": {},
     "output_type": "execute_result"
    }
   ],
   "source": [
    "cons_test.shape"
   ]
  },
  {
   "cell_type": "code",
   "execution_count": 37,
   "metadata": {},
   "outputs": [],
   "source": [
    "#split train and validation data into input and output\n",
    "train_values = cons_train.values  \n",
    "val_values = cons_val.values"
   ]
  },
  {
   "cell_type": "code",
   "execution_count": 38,
   "metadata": {},
   "outputs": [
    {
     "name": "stdout",
     "output_type": "stream",
     "text": [
      "(42028, 648) (42028,)\n",
      "(10508, 648) (10508,)\n"
     ]
    }
   ],
   "source": [
    "#split train and validation data into input and output\n",
    "xtrain, ytrain = train_values[:, :-1], train_values[:, -1]\n",
    "xval, yval = val_values[:, :-1], val_values[:, -1]\n",
    "\n",
    "print(xtrain.shape, ytrain.shape)\n",
    "print(xval.shape, yval.shape)"
   ]
  },
  {
   "cell_type": "code",
   "execution_count": 39,
   "metadata": {},
   "outputs": [
    {
     "data": {
      "text/plain": [
       "649"
      ]
     },
     "execution_count": 39,
     "metadata": {},
     "output_type": "execute_result"
    }
   ],
   "source": [
    "#get the column labels from cons_reframed for later use; there should be 649 column labels, including var27(t)\n",
    "headers = list(cons_reframed.columns.values)\n",
    "len(headers)"
   ]
  },
  {
   "cell_type": "code",
   "execution_count": 40,
   "metadata": {},
   "outputs": [
    {
     "name": "stdout",
     "output_type": "stream",
     "text": [
      "(42028, 24, 27) (42028,)\n",
      "(10508, 24, 27) (10508,)\n"
     ]
    }
   ],
   "source": [
    "#reshape train/valid input data to be Keras-ready format [samples, timesteps, features]\n",
    "xtrain = xtrain.reshape((xtrain.shape[0], 24, 27))\n",
    "xval = xval.reshape((xval.shape[0], 24, 27))\n",
    "print(xtrain.shape, ytrain.shape)\n",
    "print(xval.shape, yval.shape)"
   ]
  },
  {
   "cell_type": "code",
   "execution_count": 41,
   "metadata": {},
   "outputs": [
    {
     "name": "stdout",
     "output_type": "stream",
     "text": [
      "Requirement already satisfied: keras in c:\\users\\ht389\\appdata\\local\\continuum\\anaconda3\\lib\\site-packages (2.2.4)\n",
      "Requirement already satisfied: h5py in c:\\users\\ht389\\appdata\\local\\continuum\\anaconda3\\lib\\site-packages (from keras) (2.9.0)\n",
      "Requirement already satisfied: six>=1.9.0 in c:\\users\\ht389\\appdata\\local\\continuum\\anaconda3\\lib\\site-packages (from keras) (1.12.0)\n",
      "Requirement already satisfied: numpy>=1.9.1 in c:\\users\\ht389\\appdata\\local\\continuum\\anaconda3\\lib\\site-packages (from keras) (1.16.2)\n",
      "Requirement already satisfied: keras-applications>=1.0.6 in c:\\users\\ht389\\appdata\\local\\continuum\\anaconda3\\lib\\site-packages (from keras) (1.0.7)\n",
      "Requirement already satisfied: scipy>=0.14 in c:\\users\\ht389\\appdata\\local\\continuum\\anaconda3\\lib\\site-packages (from keras) (1.2.1)\n",
      "Requirement already satisfied: pyyaml in c:\\users\\ht389\\appdata\\local\\continuum\\anaconda3\\lib\\site-packages (from keras) (5.1)\n",
      "Requirement already satisfied: keras-preprocessing>=1.0.5 in c:\\users\\ht389\\appdata\\local\\continuum\\anaconda3\\lib\\site-packages (from keras) (1.0.9)\n"
     ]
    }
   ],
   "source": [
    "#Basic Initial LSTM\n",
    "!pip install keras"
   ]
  },
  {
   "cell_type": "code",
   "execution_count": 44,
   "metadata": {},
   "outputs": [
    {
     "name": "stdout",
     "output_type": "stream",
     "text": [
      "_________________________________________________________________\n",
      "Layer (type)                 Output Shape              Param #   \n",
      "=================================================================\n",
      "lstm_2 (LSTM)                (None, 50)                15600     \n",
      "_________________________________________________________________\n",
      "dense_2 (Dense)              (None, 1)                 51        \n",
      "=================================================================\n",
      "Total params: 15,651\n",
      "Trainable params: 15,651\n",
      "Non-trainable params: 0\n",
      "_________________________________________________________________\n"
     ]
    }
   ],
   "source": [
    "#design network 1\n",
    "model = Sequential()\n",
    "model.add(LSTM(50, input_shape=(xtrain.shape[1], xtrain.shape[2])))\n",
    "model.add(Dense(1))\n",
    "\n",
    "model.compile(loss='mae', optimizer='adam', metrics=['mse'])\n",
    "model.summary()"
   ]
  },
  {
   "cell_type": "code",
   "execution_count": 45,
   "metadata": {
    "scrolled": true
   },
   "outputs": [
    {
     "name": "stdout",
     "output_type": "stream",
     "text": [
      "Train on 42028 samples, validate on 10508 samples\n",
      "Epoch 1/50\n",
      " - 13s - loss: 0.2466 - mean_squared_error: 0.1732 - val_loss: 0.1687 - val_mean_squared_error: 0.0908\n",
      "Epoch 2/50\n",
      " - 12s - loss: 0.1541 - mean_squared_error: 0.0627 - val_loss: 0.1765 - val_mean_squared_error: 0.0843\n",
      "Epoch 3/50\n",
      " - 14s - loss: 0.1266 - mean_squared_error: 0.0439 - val_loss: 0.1692 - val_mean_squared_error: 0.0904\n",
      "Epoch 4/50\n",
      " - 14s - loss: 0.1099 - mean_squared_error: 0.0330 - val_loss: 0.1388 - val_mean_squared_error: 0.0701\n",
      "Epoch 5/50\n",
      " - 14s - loss: 0.0945 - mean_squared_error: 0.0254 - val_loss: 0.1302 - val_mean_squared_error: 0.0650\n",
      "Epoch 6/50\n",
      " - 14s - loss: 0.0868 - mean_squared_error: 0.0212 - val_loss: 0.1214 - val_mean_squared_error: 0.0542\n",
      "Epoch 7/50\n",
      " - 14s - loss: 0.0800 - mean_squared_error: 0.0183 - val_loss: 0.1092 - val_mean_squared_error: 0.0511\n",
      "Epoch 8/50\n",
      " - 14s - loss: 0.0744 - mean_squared_error: 0.0160 - val_loss: 0.1172 - val_mean_squared_error: 0.0585\n",
      "Epoch 9/50\n",
      " - 14s - loss: 0.0703 - mean_squared_error: 0.0143 - val_loss: 0.1201 - val_mean_squared_error: 0.0580\n",
      "Epoch 10/50\n",
      " - 14s - loss: 0.0676 - mean_squared_error: 0.0136 - val_loss: 0.1124 - val_mean_squared_error: 0.0500\n",
      "Epoch 11/50\n",
      " - 15s - loss: 0.0639 - mean_squared_error: 0.0120 - val_loss: 0.1114 - val_mean_squared_error: 0.0483\n",
      "Epoch 12/50\n",
      " - 14s - loss: 0.0614 - mean_squared_error: 0.0114 - val_loss: 0.1192 - val_mean_squared_error: 0.0558\n",
      "Epoch 13/50\n",
      " - 14s - loss: 0.0599 - mean_squared_error: 0.0113 - val_loss: 0.1010 - val_mean_squared_error: 0.0370\n",
      "Epoch 14/50\n",
      " - 14s - loss: 0.0578 - mean_squared_error: 0.0101 - val_loss: 0.0996 - val_mean_squared_error: 0.0414\n",
      "Epoch 15/50\n",
      " - 15s - loss: 0.0561 - mean_squared_error: 0.0100 - val_loss: 0.0921 - val_mean_squared_error: 0.0330\n",
      "Epoch 16/50\n",
      " - 15s - loss: 0.0535 - mean_squared_error: 0.0088 - val_loss: 0.0965 - val_mean_squared_error: 0.0379\n",
      "Epoch 17/50\n",
      " - 15s - loss: 0.0532 - mean_squared_error: 0.0086 - val_loss: 0.0995 - val_mean_squared_error: 0.0342\n",
      "Epoch 18/50\n",
      " - 16s - loss: 0.0523 - mean_squared_error: 0.0084 - val_loss: 0.0944 - val_mean_squared_error: 0.0370\n",
      "Epoch 19/50\n",
      " - 16s - loss: 0.0492 - mean_squared_error: 0.0078 - val_loss: 0.0842 - val_mean_squared_error: 0.0324\n",
      "Epoch 20/50\n",
      " - 16s - loss: 0.0527 - mean_squared_error: 0.0088 - val_loss: 0.0881 - val_mean_squared_error: 0.0282\n",
      "Epoch 21/50\n",
      " - 16s - loss: 0.0481 - mean_squared_error: 0.0073 - val_loss: 0.1008 - val_mean_squared_error: 0.0382\n",
      "Epoch 22/50\n",
      " - 17s - loss: 0.0472 - mean_squared_error: 0.0071 - val_loss: 0.0901 - val_mean_squared_error: 0.0336\n",
      "Epoch 23/50\n",
      " - 17s - loss: 0.0496 - mean_squared_error: 0.0076 - val_loss: 0.0878 - val_mean_squared_error: 0.0307\n",
      "Epoch 24/50\n",
      " - 17s - loss: 0.0460 - mean_squared_error: 0.0066 - val_loss: 0.0870 - val_mean_squared_error: 0.0290\n",
      "Epoch 25/50\n",
      " - 17s - loss: 0.0468 - mean_squared_error: 0.0071 - val_loss: 0.0940 - val_mean_squared_error: 0.0347\n",
      "Epoch 26/50\n",
      " - 16s - loss: 0.0452 - mean_squared_error: 0.0064 - val_loss: 0.0852 - val_mean_squared_error: 0.0302\n",
      "Epoch 27/50\n",
      " - 17s - loss: 0.0467 - mean_squared_error: 0.0066 - val_loss: 0.0946 - val_mean_squared_error: 0.0323\n",
      "Epoch 28/50\n",
      " - 16s - loss: 0.0438 - mean_squared_error: 0.0062 - val_loss: 0.0819 - val_mean_squared_error: 0.0282\n",
      "Epoch 29/50\n",
      " - 15s - loss: 0.0451 - mean_squared_error: 0.0065 - val_loss: 0.0844 - val_mean_squared_error: 0.0273\n",
      "Epoch 30/50\n",
      " - 15s - loss: 0.0422 - mean_squared_error: 0.0058 - val_loss: 0.0811 - val_mean_squared_error: 0.0248\n",
      "Epoch 31/50\n",
      " - 15s - loss: 0.0423 - mean_squared_error: 0.0057 - val_loss: 0.0792 - val_mean_squared_error: 0.0256\n",
      "Epoch 32/50\n",
      " - 15s - loss: 0.0401 - mean_squared_error: 0.0052 - val_loss: 0.0845 - val_mean_squared_error: 0.0299\n",
      "Epoch 33/50\n",
      " - 15s - loss: 0.0405 - mean_squared_error: 0.0051 - val_loss: 0.0767 - val_mean_squared_error: 0.0235\n",
      "Epoch 34/50\n",
      " - 15s - loss: 0.0397 - mean_squared_error: 0.0050 - val_loss: 0.0752 - val_mean_squared_error: 0.0251\n",
      "Epoch 35/50\n",
      " - 15s - loss: 0.0396 - mean_squared_error: 0.0052 - val_loss: 0.0756 - val_mean_squared_error: 0.0219\n",
      "Epoch 36/50\n",
      " - 16s - loss: 0.0417 - mean_squared_error: 0.0061 - val_loss: 0.0786 - val_mean_squared_error: 0.0222\n",
      "Epoch 37/50\n",
      " - 15s - loss: 0.0399 - mean_squared_error: 0.0054 - val_loss: 0.0729 - val_mean_squared_error: 0.0237\n",
      "Epoch 38/50\n",
      " - 15s - loss: 0.0389 - mean_squared_error: 0.0048 - val_loss: 0.0678 - val_mean_squared_error: 0.0203\n",
      "Epoch 39/50\n",
      " - 15s - loss: 0.0375 - mean_squared_error: 0.0044 - val_loss: 0.0772 - val_mean_squared_error: 0.0250\n",
      "Epoch 40/50\n",
      " - 15s - loss: 0.0394 - mean_squared_error: 0.0052 - val_loss: 0.0789 - val_mean_squared_error: 0.0240\n",
      "Epoch 41/50\n",
      " - 15s - loss: 0.0370 - mean_squared_error: 0.0044 - val_loss: 0.0689 - val_mean_squared_error: 0.0200\n",
      "Epoch 42/50\n",
      " - 15s - loss: 0.0385 - mean_squared_error: 0.0043 - val_loss: 0.0712 - val_mean_squared_error: 0.0193\n",
      "Epoch 43/50\n",
      " - 14s - loss: 0.0354 - mean_squared_error: 0.0041 - val_loss: 0.0686 - val_mean_squared_error: 0.0213\n",
      "Epoch 44/50\n",
      " - 14s - loss: 0.0372 - mean_squared_error: 0.0046 - val_loss: 0.0704 - val_mean_squared_error: 0.0214\n",
      "Epoch 45/50\n",
      " - 15s - loss: 0.0359 - mean_squared_error: 0.0040 - val_loss: 0.0633 - val_mean_squared_error: 0.0173\n",
      "Epoch 46/50\n",
      " - 15s - loss: 0.0361 - mean_squared_error: 0.0043 - val_loss: 0.0721 - val_mean_squared_error: 0.0192\n",
      "Epoch 47/50\n",
      " - 15s - loss: 0.0359 - mean_squared_error: 0.0040 - val_loss: 0.0713 - val_mean_squared_error: 0.0203\n",
      "Epoch 48/50\n",
      " - 15s - loss: 0.0349 - mean_squared_error: 0.0039 - val_loss: 0.0732 - val_mean_squared_error: 0.0201\n",
      "Epoch 49/50\n",
      " - 15s - loss: 0.0331 - mean_squared_error: 0.0034 - val_loss: 0.0646 - val_mean_squared_error: 0.0163\n",
      "Epoch 50/50\n",
      " - 15s - loss: 0.0357 - mean_squared_error: 0.0039 - val_loss: 0.0695 - val_mean_squared_error: 0.0178\n"
     ]
    }
   ],
   "source": [
    "#fit network\n",
    "history = model.fit(xtrain, ytrain, \n",
    "                    epochs=50,\n",
    "                    batch_size=30,\n",
    "                    verbose=2, \n",
    "                    shuffle=False, \n",
    "                    validation_data=(xval, yval))"
   ]
  },
  {
   "cell_type": "code",
   "execution_count": 46,
   "metadata": {},
   "outputs": [
    {
     "data": {
      "image/png": "[encoded data removed]",
      "text/plain": [
       "<Figure size 432x288 with 1 Axes>"
      ]
     },
     "metadata": {},
     "output_type": "display_data"
    }
   ],
   "source": [
    "# plot history of loss for train and valid sets\n",
    "pyplot.plot(history.history['loss'], label='train')\n",
    "pyplot.plot(history.history['val_loss'], label='valid')\n",
    "pyplot.title('model train vs validation loss')\n",
    "pyplot.ylabel('loss')\n",
    "pyplot.xlabel('epoch')\n",
    "pyplot.legend()\n",
    "pyplot.savefig(\"Graph1.pdf\", bbox_inches='tight')\n",
    "pyplot.show()"
   ]
  },
  {
   "cell_type": "code",
   "execution_count": null,
   "metadata": {},
   "outputs": [],
   "source": []
  },
  {
   "cell_type": "code",
   "execution_count": null,
   "metadata": {},
   "outputs": [],
   "source": []
  },
  {
   "cell_type": "code",
   "execution_count": null,
   "metadata": {},
   "outputs": [],
   "source": []
  },
  {
   "cell_type": "code",
   "execution_count": null,
   "metadata": {},
   "outputs": [],
   "source": []
  },
  {
   "cell_type": "code",
   "execution_count": null,
   "metadata": {},
   "outputs": [],
   "source": []
  },
  {
   "cell_type": "code",
   "execution_count": null,
   "metadata": {},
   "outputs": [],
   "source": []
  },
  {
   "cell_type": "code",
   "execution_count": null,
   "metadata": {},
   "outputs": [],
   "source": []
  },
  {
   "cell_type": "code",
   "execution_count": null,
   "metadata": {},
   "outputs": [],
   "source": []
  },
  {
   "cell_type": "code",
   "execution_count": null,
   "metadata": {},
   "outputs": [],
   "source": []
  },
  {
   "cell_type": "code",
   "execution_count": null,
   "metadata": {},
   "outputs": [],
   "source": []
  },
  {
   "cell_type": "markdown",
   "metadata": {},
   "source": [
    "### sola_prod"
   ]
  },
  {
   "cell_type": "code",
   "execution_count": 8,
   "metadata": {},
   "outputs": [],
   "source": [
    "sola_prod = sola_prod.drop(columns=['Unnamed: 0'])"
   ]
  },
  {
   "cell_type": "code",
   "execution_count": 9,
   "metadata": {},
   "outputs": [],
   "source": [
    "sola_prod.index.name = 'date'\n",
    "sola_prod.columns = ['Yt','Mt','Dt','Ht','ECons',\n",
    "                     'SEle','CCov','DPnt','HFra','PWat',\n",
    "                     'Pres','Temp','Vis','WSpe','WSpeBin']"
   ]
  },
  {
   "cell_type": "code",
   "execution_count": 10,
   "metadata": {},
   "outputs": [
    {
     "name": "stdout",
     "output_type": "stream",
     "text": [
      "                  Yt  Mt  Dt  Ht     ECons       SEle  CCov  DPnt    HFra  \\\n",
      "date                                                                        \n",
      "1/4/2010 15:00  2010   1   4  15  14186.16  16.551903   1.0  -8.3  0.7141   \n",
      "1/4/2010 16:00  2010   1   4  16   5898.00   9.690929   1.0  -8.3  0.6827   \n",
      "1/5/2010 9:00   2010   1   5   9  12421.86   6.474936   1.0  -8.3  0.8437   \n",
      "\n",
      "                PWat   Pres  Temp     Vis  WSpe  WSpeBin  \n",
      "date                                                      \n",
      "1/4/2010 15:00   0.0  991.9  -3.9  16.093   5.7        4  \n",
      "1/4/2010 16:00   0.0  992.2  -3.3  16.093   3.6        3  \n",
      "1/5/2010 9:00    0.0  992.9  -6.1   8.047   3.1        3  \n"
     ]
    }
   ],
   "source": [
    "print(sola_prod.head(3))"
   ]
  },
  {
   "cell_type": "markdown",
   "metadata": {},
   "source": [
    "### wind_prod"
   ]
  },
  {
   "cell_type": "code",
   "execution_count": 48,
   "metadata": {},
   "outputs": [],
   "source": [
    "wind_prod.index.name = 'date'\n",
    "wind_prod.columns = ['Hr','Yt','Mt','Dt','ECons',\n",
    "                     'WSpe','WSpeBin']"
   ]
  },
  {
   "cell_type": "code",
   "execution_count": 49,
   "metadata": {},
   "outputs": [
    {
     "name": "stdout",
     "output_type": "stream",
     "text": [
      "                Hr    Yt  Mt  Dt  ECons  WSpe  WSpeBin\n",
      "date                                                  \n",
      "3/25/2011 0:00   0  2011   3  25   6476   4.9        4\n",
      "3/25/2011 1:00   1  2011   3  25   3512   4.1        3\n",
      "3/25/2011 2:00   2  2011   3  25   2376   3.5        3\n"
     ]
    }
   ],
   "source": [
    "print(wind_prod.head(3))"
   ]
  },
  {
   "cell_type": "code",
   "execution_count": 82,
   "metadata": {},
   "outputs": [
    {
     "data": {
      "image/png": "[encoded data removed]",
      "text/plain": [
       "<Figure size 792x648 with 2 Axes>"
      ]
     },
     "metadata": {},
     "output_type": "display_data"
    }
   ],
   "source": [
    "sns.set(style=\"white\")\n",
    "\n",
    "# Compute the correlation matrix\n",
    "corr = wind_prod.corr()\n",
    "\n",
    "# Generate a mask for the upper triangle\n",
    "mask = np.zeros_like(corr, dtype=np.bool)\n",
    "mask[np.triu_indices_from(mask)] = True\n",
    "\n",
    "# Set up the matplotlib figure\n",
    "f, ax = pyplot.subplots(figsize=(11, 9))\n",
    "\n",
    "# Generate a custom diverging colormap\n",
    "cmap = sns.diverging_palette(220, 10, as_cmap=True)\n",
    "\n",
    "# Draw the heatmap with the mask and correct aspect ratio\n",
    "sns.heatmap(corr, mask=mask, cmap=cmap, vmax=.3, center=0, square=True, linewidths=.5, cbar_kws={\"shrink\": .5})\n",
    "pyplot.suptitle('Correlation matrix')\n",
    "pyplot.savefig(\"corr_matrix_wind.pdf\", bbox_inches='tight')"
   ]
  },
  {
   "cell_type": "code",
   "execution_count": 50,
   "metadata": {},
   "outputs": [],
   "source": [
    "wind_prod1 = wind_prod.drop(columns=['Hr','Yt','Mt','Dt','WSpeBin'])"
   ]
  },
  {
   "cell_type": "code",
   "execution_count": 51,
   "metadata": {},
   "outputs": [],
   "source": [
    "#move ECons to the last column of the dataframe \n",
    "cols = list(wind_prod1.columns.values) \n",
    "cols.pop(cols.index('ECons')) \n",
    "wind_prod1 = wind_prod1[cols+['ECons']]"
   ]
  },
  {
   "cell_type": "code",
   "execution_count": 52,
   "metadata": {},
   "outputs": [
    {
     "data": {
      "text/html": [
       "<div>\n",
       "<style scoped>\n",
       "    .dataframe tbody tr th:only-of-type {\n",
       "        vertical-align: middle;\n",
       "    }\n",
       "\n",
       "    .dataframe tbody tr th {\n",
       "        vertical-align: top;\n",
       "    }\n",
       "\n",
       "    .dataframe thead th {\n",
       "        text-align: right;\n",
       "    }\n",
       "</style>\n",
       "<table border=\"1\" class=\"dataframe\">\n",
       "  <thead>\n",
       "    <tr style=\"text-align: right;\">\n",
       "      <th></th>\n",
       "      <th>WSpe</th>\n",
       "      <th>ECons</th>\n",
       "    </tr>\n",
       "    <tr>\n",
       "      <th>date</th>\n",
       "      <th></th>\n",
       "      <th></th>\n",
       "    </tr>\n",
       "  </thead>\n",
       "  <tbody>\n",
       "    <tr>\n",
       "      <th>3/25/2011 0:00</th>\n",
       "      <td>4.9</td>\n",
       "      <td>6476</td>\n",
       "    </tr>\n",
       "    <tr>\n",
       "      <th>3/25/2011 1:00</th>\n",
       "      <td>4.1</td>\n",
       "      <td>3512</td>\n",
       "    </tr>\n",
       "    <tr>\n",
       "      <th>3/25/2011 2:00</th>\n",
       "      <td>3.5</td>\n",
       "      <td>2376</td>\n",
       "    </tr>\n",
       "  </tbody>\n",
       "</table>\n",
       "</div>"
      ],
      "text/plain": [
       "                WSpe  ECons\n",
       "date                       \n",
       "3/25/2011 0:00   4.9   6476\n",
       "3/25/2011 1:00   4.1   3512\n",
       "3/25/2011 2:00   3.5   2376"
      ]
     },
     "execution_count": 52,
     "metadata": {},
     "output_type": "execute_result"
    }
   ],
   "source": [
    "wind_prod1[:3]"
   ]
  },
  {
   "cell_type": "code",
   "execution_count": 54,
   "metadata": {},
   "outputs": [
    {
     "data": {
      "text/plain": [
       "15385"
      ]
     },
     "execution_count": 54,
     "metadata": {},
     "output_type": "execute_result"
    }
   ],
   "source": [
    "len(wind_prod1)"
   ]
  },
  {
   "cell_type": "code",
   "execution_count": 62,
   "metadata": {},
   "outputs": [
    {
     "data": {
      "text/plain": [
       "(15385, 2)"
      ]
     },
     "execution_count": 62,
     "metadata": {},
     "output_type": "execute_result"
    }
   ],
   "source": [
    "wind_prod1.shape"
   ]
  },
  {
   "cell_type": "code",
   "execution_count": 55,
   "metadata": {},
   "outputs": [],
   "source": [
    "#using series_to_supervised(), frame as supervised learning, with 24-hour timesteps\n",
    "wind_reframed = series_to_supervised(wind_prod1, 24, 1)"
   ]
  },
  {
   "cell_type": "code",
   "execution_count": 56,
   "metadata": {},
   "outputs": [
    {
     "data": {
      "text/plain": [
       "(15361, 50)"
      ]
     },
     "execution_count": 56,
     "metadata": {},
     "output_type": "execute_result"
    }
   ],
   "source": [
    "wind_reframed.shape"
   ]
  },
  {
   "cell_type": "code",
   "execution_count": 57,
   "metadata": {},
   "outputs": [
    {
     "data": {
      "text/html": [
       "<div>\n",
       "<style scoped>\n",
       "    .dataframe tbody tr th:only-of-type {\n",
       "        vertical-align: middle;\n",
       "    }\n",
       "\n",
       "    .dataframe tbody tr th {\n",
       "        vertical-align: top;\n",
       "    }\n",
       "\n",
       "    .dataframe thead th {\n",
       "        text-align: right;\n",
       "    }\n",
       "</style>\n",
       "<table border=\"1\" class=\"dataframe\">\n",
       "  <thead>\n",
       "    <tr style=\"text-align: right;\">\n",
       "      <th></th>\n",
       "      <th>var1(t-24)</th>\n",
       "      <th>var2(t-24)</th>\n",
       "      <th>var1(t-23)</th>\n",
       "      <th>var2(t-23)</th>\n",
       "      <th>var1(t-22)</th>\n",
       "      <th>var2(t-22)</th>\n",
       "      <th>var1(t-21)</th>\n",
       "      <th>var2(t-21)</th>\n",
       "      <th>var1(t-20)</th>\n",
       "      <th>var2(t-20)</th>\n",
       "      <th>...</th>\n",
       "      <th>var1(t-4)</th>\n",
       "      <th>var2(t-4)</th>\n",
       "      <th>var1(t-3)</th>\n",
       "      <th>var2(t-3)</th>\n",
       "      <th>var1(t-2)</th>\n",
       "      <th>var2(t-2)</th>\n",
       "      <th>var1(t-1)</th>\n",
       "      <th>var2(t-1)</th>\n",
       "      <th>var1(t)</th>\n",
       "      <th>var2(t)</th>\n",
       "    </tr>\n",
       "    <tr>\n",
       "      <th>date</th>\n",
       "      <th></th>\n",
       "      <th></th>\n",
       "      <th></th>\n",
       "      <th></th>\n",
       "      <th></th>\n",
       "      <th></th>\n",
       "      <th></th>\n",
       "      <th></th>\n",
       "      <th></th>\n",
       "      <th></th>\n",
       "      <th></th>\n",
       "      <th></th>\n",
       "      <th></th>\n",
       "      <th></th>\n",
       "      <th></th>\n",
       "      <th></th>\n",
       "      <th></th>\n",
       "      <th></th>\n",
       "      <th></th>\n",
       "      <th></th>\n",
       "      <th></th>\n",
       "    </tr>\n",
       "  </thead>\n",
       "  <tbody>\n",
       "    <tr>\n",
       "      <th>3/26/2011 0:00</th>\n",
       "      <td>4.9</td>\n",
       "      <td>6476.0</td>\n",
       "      <td>4.1</td>\n",
       "      <td>3512.0</td>\n",
       "      <td>3.5</td>\n",
       "      <td>2376.0</td>\n",
       "      <td>3.9</td>\n",
       "      <td>3056.0</td>\n",
       "      <td>3.4</td>\n",
       "      <td>2084.0</td>\n",
       "      <td>...</td>\n",
       "      <td>3.2</td>\n",
       "      <td>1408.0</td>\n",
       "      <td>3.5</td>\n",
       "      <td>2164.0</td>\n",
       "      <td>5.0</td>\n",
       "      <td>6780.0</td>\n",
       "      <td>5.3</td>\n",
       "      <td>7792.0</td>\n",
       "      <td>4.4</td>\n",
       "      <td>4068</td>\n",
       "    </tr>\n",
       "    <tr>\n",
       "      <th>3/26/2011 1:00</th>\n",
       "      <td>4.1</td>\n",
       "      <td>3512.0</td>\n",
       "      <td>3.5</td>\n",
       "      <td>2376.0</td>\n",
       "      <td>3.9</td>\n",
       "      <td>3056.0</td>\n",
       "      <td>3.4</td>\n",
       "      <td>2084.0</td>\n",
       "      <td>3.3</td>\n",
       "      <td>1648.0</td>\n",
       "      <td>...</td>\n",
       "      <td>3.5</td>\n",
       "      <td>2164.0</td>\n",
       "      <td>5.0</td>\n",
       "      <td>6780.0</td>\n",
       "      <td>5.3</td>\n",
       "      <td>7792.0</td>\n",
       "      <td>4.4</td>\n",
       "      <td>4068.0</td>\n",
       "      <td>4.6</td>\n",
       "      <td>4920</td>\n",
       "    </tr>\n",
       "    <tr>\n",
       "      <th>3/26/2011 2:00</th>\n",
       "      <td>3.5</td>\n",
       "      <td>2376.0</td>\n",
       "      <td>3.9</td>\n",
       "      <td>3056.0</td>\n",
       "      <td>3.4</td>\n",
       "      <td>2084.0</td>\n",
       "      <td>3.3</td>\n",
       "      <td>1648.0</td>\n",
       "      <td>2.8</td>\n",
       "      <td>788.0</td>\n",
       "      <td>...</td>\n",
       "      <td>5.0</td>\n",
       "      <td>6780.0</td>\n",
       "      <td>5.3</td>\n",
       "      <td>7792.0</td>\n",
       "      <td>4.4</td>\n",
       "      <td>4068.0</td>\n",
       "      <td>4.6</td>\n",
       "      <td>4920.0</td>\n",
       "      <td>5.3</td>\n",
       "      <td>7440</td>\n",
       "    </tr>\n",
       "  </tbody>\n",
       "</table>\n",
       "<p>3 rows × 50 columns</p>\n",
       "</div>"
      ],
      "text/plain": [
       "                var1(t-24)  var2(t-24)  var1(t-23)  var2(t-23)  var1(t-22)  \\\n",
       "date                                                                         \n",
       "3/26/2011 0:00         4.9      6476.0         4.1      3512.0         3.5   \n",
       "3/26/2011 1:00         4.1      3512.0         3.5      2376.0         3.9   \n",
       "3/26/2011 2:00         3.5      2376.0         3.9      3056.0         3.4   \n",
       "\n",
       "                var2(t-22)  var1(t-21)  var2(t-21)  var1(t-20)  var2(t-20)  \\\n",
       "date                                                                         \n",
       "3/26/2011 0:00      2376.0         3.9      3056.0         3.4      2084.0   \n",
       "3/26/2011 1:00      3056.0         3.4      2084.0         3.3      1648.0   \n",
       "3/26/2011 2:00      2084.0         3.3      1648.0         2.8       788.0   \n",
       "\n",
       "                ...  var1(t-4)  var2(t-4)  var1(t-3)  var2(t-3)  var1(t-2)  \\\n",
       "date            ...                                                          \n",
       "3/26/2011 0:00  ...        3.2     1408.0        3.5     2164.0        5.0   \n",
       "3/26/2011 1:00  ...        3.5     2164.0        5.0     6780.0        5.3   \n",
       "3/26/2011 2:00  ...        5.0     6780.0        5.3     7792.0        4.4   \n",
       "\n",
       "                var2(t-2)  var1(t-1)  var2(t-1)  var1(t)  var2(t)  \n",
       "date                                                               \n",
       "3/26/2011 0:00     6780.0        5.3     7792.0      4.4     4068  \n",
       "3/26/2011 1:00     7792.0        4.4     4068.0      4.6     4920  \n",
       "3/26/2011 2:00     4068.0        4.6     4920.0      5.3     7440  \n",
       "\n",
       "[3 rows x 50 columns]"
      ]
     },
     "execution_count": 57,
     "metadata": {},
     "output_type": "execute_result"
    }
   ],
   "source": [
    "wind_reframed[:3]"
   ]
  },
  {
   "cell_type": "code",
   "execution_count": 58,
   "metadata": {},
   "outputs": [
    {
     "data": {
      "text/plain": [
       "50"
      ]
     },
     "execution_count": 58,
     "metadata": {},
     "output_type": "execute_result"
    }
   ],
   "source": [
    "w_cols = wind_reframed.shape[1]\n",
    "w_cols"
   ]
  },
  {
   "cell_type": "code",
   "execution_count": 59,
   "metadata": {},
   "outputs": [
    {
     "data": {
      "text/plain": [
       "49"
      ]
     },
     "execution_count": 59,
     "metadata": {},
     "output_type": "execute_result"
    }
   ],
   "source": [
    "w_drop = w_cols-1\n",
    "w_drop"
   ]
  },
  {
   "cell_type": "code",
   "execution_count": 60,
   "metadata": {},
   "outputs": [
    {
     "data": {
      "text/html": [
       "<div>\n",
       "<style scoped>\n",
       "    .dataframe tbody tr th:only-of-type {\n",
       "        vertical-align: middle;\n",
       "    }\n",
       "\n",
       "    .dataframe tbody tr th {\n",
       "        vertical-align: top;\n",
       "    }\n",
       "\n",
       "    .dataframe thead th {\n",
       "        text-align: right;\n",
       "    }\n",
       "</style>\n",
       "<table border=\"1\" class=\"dataframe\">\n",
       "  <thead>\n",
       "    <tr style=\"text-align: right;\">\n",
       "      <th></th>\n",
       "      <th>var1(t-24)</th>\n",
       "      <th>var2(t-24)</th>\n",
       "      <th>var1(t-23)</th>\n",
       "      <th>var2(t-23)</th>\n",
       "      <th>var1(t-22)</th>\n",
       "      <th>var2(t-22)</th>\n",
       "      <th>var1(t-21)</th>\n",
       "      <th>var2(t-21)</th>\n",
       "      <th>var1(t-20)</th>\n",
       "      <th>var2(t-20)</th>\n",
       "      <th>...</th>\n",
       "      <th>var2(t-5)</th>\n",
       "      <th>var1(t-4)</th>\n",
       "      <th>var2(t-4)</th>\n",
       "      <th>var1(t-3)</th>\n",
       "      <th>var2(t-3)</th>\n",
       "      <th>var1(t-2)</th>\n",
       "      <th>var2(t-2)</th>\n",
       "      <th>var1(t-1)</th>\n",
       "      <th>var2(t-1)</th>\n",
       "      <th>var1(t)</th>\n",
       "    </tr>\n",
       "    <tr>\n",
       "      <th>date</th>\n",
       "      <th></th>\n",
       "      <th></th>\n",
       "      <th></th>\n",
       "      <th></th>\n",
       "      <th></th>\n",
       "      <th></th>\n",
       "      <th></th>\n",
       "      <th></th>\n",
       "      <th></th>\n",
       "      <th></th>\n",
       "      <th></th>\n",
       "      <th></th>\n",
       "      <th></th>\n",
       "      <th></th>\n",
       "      <th></th>\n",
       "      <th></th>\n",
       "      <th></th>\n",
       "      <th></th>\n",
       "      <th></th>\n",
       "      <th></th>\n",
       "      <th></th>\n",
       "    </tr>\n",
       "  </thead>\n",
       "  <tbody>\n",
       "    <tr>\n",
       "      <th>3/26/2011 0:00</th>\n",
       "      <td>4.9</td>\n",
       "      <td>6476.0</td>\n",
       "      <td>4.1</td>\n",
       "      <td>3512.0</td>\n",
       "      <td>3.5</td>\n",
       "      <td>2376.0</td>\n",
       "      <td>3.9</td>\n",
       "      <td>3056.0</td>\n",
       "      <td>3.4</td>\n",
       "      <td>2084.0</td>\n",
       "      <td>...</td>\n",
       "      <td>2000.0</td>\n",
       "      <td>3.2</td>\n",
       "      <td>1408.0</td>\n",
       "      <td>3.5</td>\n",
       "      <td>2164.0</td>\n",
       "      <td>5.0</td>\n",
       "      <td>6780.0</td>\n",
       "      <td>5.3</td>\n",
       "      <td>7792.0</td>\n",
       "      <td>4.4</td>\n",
       "    </tr>\n",
       "    <tr>\n",
       "      <th>3/26/2011 1:00</th>\n",
       "      <td>4.1</td>\n",
       "      <td>3512.0</td>\n",
       "      <td>3.5</td>\n",
       "      <td>2376.0</td>\n",
       "      <td>3.9</td>\n",
       "      <td>3056.0</td>\n",
       "      <td>3.4</td>\n",
       "      <td>2084.0</td>\n",
       "      <td>3.3</td>\n",
       "      <td>1648.0</td>\n",
       "      <td>...</td>\n",
       "      <td>1408.0</td>\n",
       "      <td>3.5</td>\n",
       "      <td>2164.0</td>\n",
       "      <td>5.0</td>\n",
       "      <td>6780.0</td>\n",
       "      <td>5.3</td>\n",
       "      <td>7792.0</td>\n",
       "      <td>4.4</td>\n",
       "      <td>4068.0</td>\n",
       "      <td>4.6</td>\n",
       "    </tr>\n",
       "    <tr>\n",
       "      <th>3/26/2011 2:00</th>\n",
       "      <td>3.5</td>\n",
       "      <td>2376.0</td>\n",
       "      <td>3.9</td>\n",
       "      <td>3056.0</td>\n",
       "      <td>3.4</td>\n",
       "      <td>2084.0</td>\n",
       "      <td>3.3</td>\n",
       "      <td>1648.0</td>\n",
       "      <td>2.8</td>\n",
       "      <td>788.0</td>\n",
       "      <td>...</td>\n",
       "      <td>2164.0</td>\n",
       "      <td>5.0</td>\n",
       "      <td>6780.0</td>\n",
       "      <td>5.3</td>\n",
       "      <td>7792.0</td>\n",
       "      <td>4.4</td>\n",
       "      <td>4068.0</td>\n",
       "      <td>4.6</td>\n",
       "      <td>4920.0</td>\n",
       "      <td>5.3</td>\n",
       "    </tr>\n",
       "  </tbody>\n",
       "</table>\n",
       "<p>3 rows × 49 columns</p>\n",
       "</div>"
      ],
      "text/plain": [
       "                var1(t-24)  var2(t-24)  var1(t-23)  var2(t-23)  var1(t-22)  \\\n",
       "date                                                                         \n",
       "3/26/2011 0:00         4.9      6476.0         4.1      3512.0         3.5   \n",
       "3/26/2011 1:00         4.1      3512.0         3.5      2376.0         3.9   \n",
       "3/26/2011 2:00         3.5      2376.0         3.9      3056.0         3.4   \n",
       "\n",
       "                var2(t-22)  var1(t-21)  var2(t-21)  var1(t-20)  var2(t-20)  \\\n",
       "date                                                                         \n",
       "3/26/2011 0:00      2376.0         3.9      3056.0         3.4      2084.0   \n",
       "3/26/2011 1:00      3056.0         3.4      2084.0         3.3      1648.0   \n",
       "3/26/2011 2:00      2084.0         3.3      1648.0         2.8       788.0   \n",
       "\n",
       "                ...  var2(t-5)  var1(t-4)  var2(t-4)  var1(t-3)  var2(t-3)  \\\n",
       "date            ...                                                          \n",
       "3/26/2011 0:00  ...     2000.0        3.2     1408.0        3.5     2164.0   \n",
       "3/26/2011 1:00  ...     1408.0        3.5     2164.0        5.0     6780.0   \n",
       "3/26/2011 2:00  ...     2164.0        5.0     6780.0        5.3     7792.0   \n",
       "\n",
       "                var1(t-2)  var2(t-2)  var1(t-1)  var2(t-1)  var1(t)  \n",
       "date                                                                 \n",
       "3/26/2011 0:00        5.0     6780.0        5.3     7792.0      4.4  \n",
       "3/26/2011 1:00        5.3     7792.0        4.4     4068.0      4.6  \n",
       "3/26/2011 2:00        4.4     4068.0        4.6     4920.0      5.3  \n",
       "\n",
       "[3 rows x 49 columns]"
      ]
     },
     "execution_count": 60,
     "metadata": {},
     "output_type": "execute_result"
    }
   ],
   "source": [
    "wind_reframed.drop(wind_reframed.columns[w_drop], axis=1, inplace=True)\n",
    "wind_reframed[:3]"
   ]
  },
  {
   "cell_type": "code",
   "execution_count": 61,
   "metadata": {},
   "outputs": [
    {
     "data": {
      "text/plain": [
       "(15361, 49)"
      ]
     },
     "execution_count": 61,
     "metadata": {},
     "output_type": "execute_result"
    }
   ],
   "source": [
    "wind_reframed.shape"
   ]
  },
  {
   "cell_type": "code",
   "execution_count": 70,
   "metadata": {},
   "outputs": [],
   "source": [
    "# split reframed data into train and validation sets\n",
    "wind_train = wind_reframed[:11700] #Mar 2011 - Jul 2012\n",
    "wind_test = wind_reframed[11700:] #Aug 2012 - Dec 2012"
   ]
  },
  {
   "cell_type": "code",
   "execution_count": 71,
   "metadata": {},
   "outputs": [],
   "source": [
    "w_train = wind_train[:8776] #Mar 2011 - Mar 2012\n",
    "w_valid = wind_train[8776:] #Apr 2012 - Jul 2012"
   ]
  },
  {
   "cell_type": "code",
   "execution_count": 72,
   "metadata": {},
   "outputs": [
    {
     "data": {
      "text/plain": [
       "(8776, 49)"
      ]
     },
     "execution_count": 72,
     "metadata": {},
     "output_type": "execute_result"
    }
   ],
   "source": [
    "w_train.shape"
   ]
  },
  {
   "cell_type": "code",
   "execution_count": 73,
   "metadata": {},
   "outputs": [
    {
     "data": {
      "text/plain": [
       "(2924, 49)"
      ]
     },
     "execution_count": 73,
     "metadata": {},
     "output_type": "execute_result"
    }
   ],
   "source": [
    "w_valid.shape"
   ]
  },
  {
   "cell_type": "code",
   "execution_count": 74,
   "metadata": {},
   "outputs": [
    {
     "data": {
      "text/plain": [
       "(3661, 49)"
      ]
     },
     "execution_count": 74,
     "metadata": {},
     "output_type": "execute_result"
    }
   ],
   "source": [
    "wind_test.shape"
   ]
  },
  {
   "cell_type": "code",
   "execution_count": 75,
   "metadata": {},
   "outputs": [],
   "source": [
    "#split train and validation data into input and output\n",
    "train_values = w_train.values  \n",
    "valid_values = w_valid.values"
   ]
  },
  {
   "cell_type": "code",
   "execution_count": 76,
   "metadata": {},
   "outputs": [
    {
     "name": "stdout",
     "output_type": "stream",
     "text": [
      "(8776, 48) (8776,)\n",
      "(2924, 48) (2924,)\n"
     ]
    }
   ],
   "source": [
    "#split train and validation data into input and output\n",
    "x_train, y_train = train_values[:, :-1], train_values[:, -1]\n",
    "x_valid, y_valid = valid_values[:, :-1], valid_values[:, -1]\n",
    "\n",
    "print(x_train.shape, y_train.shape)\n",
    "print(x_valid.shape, y_valid.shape)"
   ]
  },
  {
   "cell_type": "code",
   "execution_count": 77,
   "metadata": {},
   "outputs": [
    {
     "data": {
      "text/plain": [
       "49"
      ]
     },
     "execution_count": 77,
     "metadata": {},
     "output_type": "execute_result"
    }
   ],
   "source": [
    "# get the column labels from wind_reframed for later use\n",
    "# there should be 49 column labels, including var2(t)\n",
    "wind_headers = list(wind_reframed.columns.values)\n",
    "len(wind_headers)"
   ]
  },
  {
   "cell_type": "code",
   "execution_count": 78,
   "metadata": {},
   "outputs": [
    {
     "name": "stdout",
     "output_type": "stream",
     "text": [
      "(8776, 24, 2) (8776,)\n",
      "(2924, 24, 2) (2924,)\n"
     ]
    }
   ],
   "source": [
    "# Reshape train/valid input data to be Keras-ready format [samples, timesteps, features]\n",
    "x_train = x_train.reshape((x_train.shape[0], 24, 2))\n",
    "x_valid = x_valid.reshape((x_valid.shape[0], 24, 2))\n",
    "print(x_train.shape, y_train.shape)\n",
    "print(x_valid.shape, y_valid.shape)"
   ]
  },
  {
   "cell_type": "code",
   "execution_count": 79,
   "metadata": {},
   "outputs": [
    {
     "name": "stdout",
     "output_type": "stream",
     "text": [
      "_________________________________________________________________\n",
      "Layer (type)                 Output Shape              Param #   \n",
      "=================================================================\n",
      "lstm_3 (LSTM)                (None, 50)                10600     \n",
      "_________________________________________________________________\n",
      "dense_3 (Dense)              (None, 1)                 51        \n",
      "=================================================================\n",
      "Total params: 10,651\n",
      "Trainable params: 10,651\n",
      "Non-trainable params: 0\n",
      "_________________________________________________________________\n"
     ]
    }
   ],
   "source": [
    "# design neural net 1\n",
    "def buildModel():\n",
    "    'a funtion that builds a Neural networks model'\n",
    "    w_model = Sequential()\n",
    "    w_model.add(LSTM(50, input_shape=(x_train.shape[1], x_train.shape[2])))\n",
    "    w_model.add(Dense(1))\n",
    "    \n",
    "    w_model.compile(loss='mae', optimizer='adam', metrics=['mse'])\n",
    "    return model"
   ]
  },
  {
   "cell_type": "code",
   "execution_count": null,
   "metadata": {},
   "outputs": [],
   "source": [
    "nn1 = buildModel()\n",
    "nn1.summary()"
   ]
  },
  {
   "cell_type": "code",
   "execution_count": 80,
   "metadata": {
    "scrolled": true
   },
   "outputs": [
    {
     "name": "stdout",
     "output_type": "stream",
     "text": [
      "Train on 8776 samples, validate on 2924 samples\n",
      "Epoch 1/50\n",
      " - 6s - loss: 3.1322 - mean_squared_error: 15.3197 - val_loss: 1.9617 - val_mean_squared_error: 6.6243\n",
      "Epoch 2/50\n",
      " - 4s - loss: 2.1261 - mean_squared_error: 8.0102 - val_loss: 1.8591 - val_mean_squared_error: 5.9041\n",
      "Epoch 3/50\n",
      " - 4s - loss: 2.1685 - mean_squared_error: 8.7324 - val_loss: 1.7816 - val_mean_squared_error: 5.6776\n",
      "Epoch 4/50\n",
      " - 4s - loss: 2.0748 - mean_squared_error: 7.9383 - val_loss: 1.6995 - val_mean_squared_error: 5.0841\n",
      "Epoch 5/50\n",
      " - 4s - loss: 1.8414 - mean_squared_error: 6.3544 - val_loss: 1.3668 - val_mean_squared_error: 3.1585\n",
      "Epoch 6/50\n",
      " - 5s - loss: 1.7264 - mean_squared_error: 5.3482 - val_loss: 1.4440 - val_mean_squared_error: 3.4648\n",
      "Epoch 7/50\n",
      " - 4s - loss: 1.7611 - mean_squared_error: 6.1240 - val_loss: 1.6579 - val_mean_squared_error: 4.6070\n",
      "Epoch 8/50\n",
      " - 4s - loss: 1.9752 - mean_squared_error: 7.3816 - val_loss: 1.9331 - val_mean_squared_error: 6.3579\n",
      "Epoch 9/50\n",
      " - 4s - loss: 1.8741 - mean_squared_error: 6.2867 - val_loss: 1.5484 - val_mean_squared_error: 3.8230\n",
      "Epoch 10/50\n",
      " - 4s - loss: 1.9218 - mean_squared_error: 7.1176 - val_loss: 1.9514 - val_mean_squared_error: 6.4207\n",
      "Epoch 11/50\n",
      " - 4s - loss: 1.7849 - mean_squared_error: 5.7942 - val_loss: 1.4954 - val_mean_squared_error: 3.9760\n",
      "Epoch 12/50\n",
      " - 4s - loss: 1.8034 - mean_squared_error: 6.4316 - val_loss: 1.8354 - val_mean_squared_error: 5.6858\n",
      "Epoch 13/50\n",
      " - 5s - loss: 1.9068 - mean_squared_error: 6.6469 - val_loss: 1.8769 - val_mean_squared_error: 6.0225\n",
      "Epoch 14/50\n",
      " - 5s - loss: 1.9950 - mean_squared_error: 7.2266 - val_loss: 1.8029 - val_mean_squared_error: 5.6850\n",
      "Epoch 15/50\n",
      " - 4s - loss: 1.6638 - mean_squared_error: 5.2668 - val_loss: 1.6706 - val_mean_squared_error: 4.5810\n",
      "Epoch 16/50\n",
      " - 4s - loss: 2.0075 - mean_squared_error: 7.2482 - val_loss: 1.5414 - val_mean_squared_error: 3.8401\n",
      "Epoch 17/50\n",
      " - 4s - loss: 1.6521 - mean_squared_error: 5.2604 - val_loss: 1.2440 - val_mean_squared_error: 2.6867\n",
      "Epoch 18/50\n",
      " - 5s - loss: 1.8837 - mean_squared_error: 6.5815 - val_loss: 1.5481 - val_mean_squared_error: 4.0437\n",
      "Epoch 19/50\n",
      " - 5s - loss: 1.7297 - mean_squared_error: 5.6681 - val_loss: 1.3653 - val_mean_squared_error: 3.4205\n",
      "Epoch 20/50\n",
      " - 5s - loss: 1.5413 - mean_squared_error: 4.5385 - val_loss: 1.4742 - val_mean_squared_error: 3.7631\n",
      "Epoch 21/50\n",
      " - 5s - loss: 1.5298 - mean_squared_error: 4.6011 - val_loss: 1.3296 - val_mean_squared_error: 3.3082\n",
      "Epoch 22/50\n",
      " - 5s - loss: 1.5418 - mean_squared_error: 4.6995 - val_loss: 1.2533 - val_mean_squared_error: 2.7400\n",
      "Epoch 23/50\n",
      " - 5s - loss: 1.4264 - mean_squared_error: 4.0723 - val_loss: 1.3888 - val_mean_squared_error: 3.6480\n",
      "Epoch 24/50\n",
      " - 5s - loss: 1.4856 - mean_squared_error: 4.4506 - val_loss: 1.8070 - val_mean_squared_error: 5.4907\n",
      "Epoch 25/50\n",
      " - 5s - loss: 1.8981 - mean_squared_error: 6.7074 - val_loss: 1.6528 - val_mean_squared_error: 4.6195\n",
      "Epoch 26/50\n",
      " - 5s - loss: 1.8890 - mean_squared_error: 6.7636 - val_loss: 1.9532 - val_mean_squared_error: 6.3591\n",
      "Epoch 27/50\n",
      " - 5s - loss: 1.9216 - mean_squared_error: 6.5988 - val_loss: 1.6288 - val_mean_squared_error: 4.3777\n",
      "Epoch 28/50\n",
      " - 5s - loss: 1.8522 - mean_squared_error: 6.0846 - val_loss: 1.5203 - val_mean_squared_error: 3.6534\n",
      "Epoch 29/50\n",
      " - 5s - loss: 1.7279 - mean_squared_error: 5.6217 - val_loss: 1.6766 - val_mean_squared_error: 5.1912\n",
      "Epoch 30/50\n",
      " - 5s - loss: 1.6869 - mean_squared_error: 5.8620 - val_loss: 1.4867 - val_mean_squared_error: 4.2143\n",
      "Epoch 31/50\n",
      " - 5s - loss: 1.5557 - mean_squared_error: 4.7880 - val_loss: 1.8033 - val_mean_squared_error: 5.6093\n",
      "Epoch 32/50\n",
      " - 5s - loss: 2.6258 - mean_squared_error: 11.8155 - val_loss: 1.8950 - val_mean_squared_error: 5.9750\n",
      "Epoch 33/50\n",
      " - 5s - loss: 1.9801 - mean_squared_error: 6.8302 - val_loss: 1.6463 - val_mean_squared_error: 4.4357\n",
      "Epoch 34/50\n",
      " - 4s - loss: 1.9622 - mean_squared_error: 7.1428 - val_loss: 1.6051 - val_mean_squared_error: 4.1783\n",
      "Epoch 35/50\n",
      " - 4s - loss: 1.8471 - mean_squared_error: 5.9682 - val_loss: 1.4999 - val_mean_squared_error: 4.2277\n",
      "Epoch 36/50\n",
      " - 4s - loss: 2.0099 - mean_squared_error: 7.1872 - val_loss: 1.5861 - val_mean_squared_error: 4.1921\n",
      "Epoch 37/50\n",
      " - 4s - loss: 1.8517 - mean_squared_error: 6.4423 - val_loss: 1.2654 - val_mean_squared_error: 2.9636\n",
      "Epoch 38/50\n",
      " - 5s - loss: 1.5216 - mean_squared_error: 4.6375 - val_loss: 1.5028 - val_mean_squared_error: 3.9900\n",
      "Epoch 39/50\n",
      " - 4s - loss: 1.4783 - mean_squared_error: 4.3431 - val_loss: 1.1189 - val_mean_squared_error: 2.2554\n",
      "Epoch 40/50\n",
      " - 5s - loss: 2.0983 - mean_squared_error: 7.9325 - val_loss: 1.8126 - val_mean_squared_error: 5.4687\n",
      "Epoch 41/50\n",
      " - 5s - loss: 1.9479 - mean_squared_error: 6.7243 - val_loss: 1.5261 - val_mean_squared_error: 3.6608\n",
      "Epoch 42/50\n",
      " - 5s - loss: 1.8517 - mean_squared_error: 6.2770 - val_loss: 1.6887 - val_mean_squared_error: 4.6333\n",
      "Epoch 43/50\n",
      " - 5s - loss: 1.9363 - mean_squared_error: 6.6920 - val_loss: 1.6263 - val_mean_squared_error: 4.1749\n",
      "Epoch 44/50\n",
      " - 5s - loss: 1.8598 - mean_squared_error: 6.2072 - val_loss: 1.5733 - val_mean_squared_error: 3.9293\n",
      "Epoch 45/50\n",
      " - 5s - loss: 1.7742 - mean_squared_error: 5.5397 - val_loss: 1.5111 - val_mean_squared_error: 3.6235\n",
      "Epoch 46/50\n",
      " - 5s - loss: 1.7110 - mean_squared_error: 5.2605 - val_loss: 1.5824 - val_mean_squared_error: 4.2584\n",
      "Epoch 47/50\n",
      " - 4s - loss: 1.8488 - mean_squared_error: 6.2205 - val_loss: 1.4555 - val_mean_squared_error: 3.4589\n",
      "Epoch 48/50\n",
      " - 3s - loss: 1.4793 - mean_squared_error: 4.5789 - val_loss: 1.1849 - val_mean_squared_error: 2.6767\n",
      "Epoch 49/50\n",
      " - 3s - loss: 1.3940 - mean_squared_error: 3.7984 - val_loss: 1.4123 - val_mean_squared_error: 3.3624\n",
      "Epoch 50/50\n",
      " - 3s - loss: 1.4235 - mean_squared_error: 4.1927 - val_loss: 1.1782 - val_mean_squared_error: 2.3114\n"
     ]
    }
   ],
   "source": [
    "#fit network\n",
    "history = nn1.fit(x_train, y_train, \n",
    "                    epochs=50,\n",
    "                    batch_size=30,\n",
    "                    verbose=2, \n",
    "                    shuffle=False, \n",
    "                    validation_data=(x_valid, y_valid))"
   ]
  },
  {
   "cell_type": "code",
   "execution_count": 83,
   "metadata": {},
   "outputs": [
    {
     "data": {
      "image/png": "[encoded data removed]",
      "text/plain": [
       "<Figure size 432x288 with 1 Axes>"
      ]
     },
     "metadata": {},
     "output_type": "display_data"
    }
   ],
   "source": [
    "# plot history of loss for train and valid sets\n",
    "pyplot.plot(history.history['loss'], label='train')\n",
    "pyplot.plot(history.history['val_loss'], label='valid')\n",
    "pyplot.title('model train vs validation loss')\n",
    "pyplot.ylabel('loss')\n",
    "pyplot.xlabel('epoch')\n",
    "pyplot.legend()\n",
    "pyplot.savefig(\"Graph2.png\", bbox_inches='tight')\n",
    "pyplot.show()"
   ]
  },
  {
   "cell_type": "code",
   "execution_count": 85,
   "metadata": {},
   "outputs": [
    {
     "name": "stdout",
     "output_type": "stream",
     "text": [
      "[[0.35682169 0.44535555]\n",
      " [0.67437493 0.68237431]\n",
      " [0.91253986 0.77321551]\n",
      " ...\n",
      " [2.5805458  3.22507663]\n",
      " [2.42176918 3.13775393]\n",
      " [2.46146334 3.08273743]]\n"
     ]
    }
   ],
   "source": [
    "#use z-score to detect outliers\n",
    "wind_z = np.abs(stats.zscore(wind_prod1))\n",
    "print(wind_z)"
   ]
  },
  {
   "cell_type": "code",
   "execution_count": 86,
   "metadata": {
    "scrolled": true
   },
   "outputs": [
    {
     "name": "stdout",
     "output_type": "stream",
     "text": [
      "(array([ 3505,  3505,  3853,  3861,  3861,  3994,  3995,  3997,  4571,\n",
      "        4670,  5014,  5015,  5016,  5252,  5253,  5254,  5254,  5255,\n",
      "        5255,  5256,  5258,  5811,  5812,  5813,  5814,  5815,  5816,\n",
      "        5875,  5910,  5911,  5924,  5925,  5929,  5929,  5930,  5931,\n",
      "        5955,  5956,  5957,  5958,  5958,  5959,  5959,  5960,  5960,\n",
      "        5961,  5961,  5962,  5962,  5963,  5964,  6056,  6060,  6061,\n",
      "        6061,  6062,  6063,  6069,  6086,  6087,  6087,  6088,  6088,\n",
      "        6089,  6089,  6090,  6090,  6091,  6091,  6092,  6092,  6093,\n",
      "        6093,  6094,  6094,  6095,  6095,  6096,  6096,  6097,  6097,\n",
      "        6098,  6098,  6189,  6190,  6191,  6191,  6192,  6192,  6193,\n",
      "        6193,  6194,  6194,  6195,  6195,  6196,  6196,  6197,  6197,\n",
      "        6198,  6198,  6199,  6199,  6200,  6200,  6201,  6201,  6202,\n",
      "        6202,  6223,  6223,  6240,  6241,  6242,  6247,  6250,  6250,\n",
      "        6251,  6251,  6267,  6270,  6270,  6271,  6271,  6272,  6272,\n",
      "        6273,  6273,  6274,  6455,  6456,  6457,  6459,  6586,  6657,\n",
      "        6657,  6658,  6658,  6659,  6659,  6689,  6690,  6693,  6693,\n",
      "        6694,  6694,  6695,  6695,  6696,  6696,  6697,  6697,  6698,\n",
      "        6698,  6699,  6699,  6700,  6700,  6701,  6701,  6702,  6702,\n",
      "        6703,  6703,  6704,  6728,  6729,  6729,  6730,  6730,  6731,\n",
      "        6731,  6732,  6732,  6733,  6733,  6734,  6734,  6735,  6735,\n",
      "        6736,  6736,  6737,  6737,  6738,  6738,  6739,  6739,  6740,\n",
      "        6740,  6741,  6741,  6742,  6742,  6743,  6744,  6744,  6745,\n",
      "        6745,  6746,  6746,  6747,  6747,  6748,  6749,  6749,  6751,\n",
      "        7047,  7060,  7060,  7061,  7061,  7062,  7062,  7063,  7063,\n",
      "        7064,  7064,  7065,  8162,  8163,  8164,  8165,  8166,  9019,\n",
      "        9020,  9197,  9199,  9200,  9201,  9391,  9392,  9393,  9395,\n",
      "        9416,  9416,  9417,  9417,  9520, 10437, 10438, 12314, 13032,\n",
      "       13033, 13033, 13034, 13034, 13035, 13035, 13036, 13036, 13037,\n",
      "       13037, 13291, 13292, 13293, 13293, 13294, 13294, 13295, 14430,\n",
      "       14431, 14463, 14508, 14509, 14510, 14510, 14511, 14511, 14512,\n",
      "       14512, 14513, 14513, 14514, 14514, 14515, 14515, 14517, 14517,\n",
      "       14518, 14518, 14519, 14519, 14521, 14711, 14800, 14801, 14802,\n",
      "       14803, 14804, 14976, 14977, 14978, 14978, 14979, 14979, 14980,\n",
      "       14980, 14981, 14982, 14984, 14989, 15182, 15183, 15184, 15187,\n",
      "       15220, 15222, 15222, 15244, 15244, 15245, 15262, 15262, 15263,\n",
      "       15263, 15264, 15265, 15265, 15266, 15328, 15329, 15331, 15332,\n",
      "       15339, 15340, 15342, 15362, 15365, 15366, 15370, 15371, 15373,\n",
      "       15375, 15376, 15377, 15380, 15381, 15381, 15382, 15383, 15384],\n",
      "      dtype=int64), array([0, 1, 1, 0, 1, 1, 1, 1, 1, 1, 1, 1, 1, 1, 1, 0, 1, 0, 1, 1, 1, 1,\n",
      "       1, 1, 1, 1, 1, 1, 1, 1, 1, 1, 0, 1, 1, 1, 1, 1, 1, 0, 1, 0, 1, 0,\n",
      "       1, 0, 1, 0, 1, 1, 1, 1, 1, 0, 1, 1, 1, 1, 1, 0, 1, 0, 1, 0, 1, 0,\n",
      "       1, 0, 1, 0, 1, 0, 1, 0, 1, 0, 1, 0, 1, 0, 1, 0, 1, 1, 1, 0, 1, 0,\n",
      "       1, 0, 1, 0, 1, 0, 1, 0, 1, 0, 1, 0, 1, 0, 1, 0, 1, 0, 1, 0, 1, 0,\n",
      "       1, 1, 1, 1, 1, 0, 1, 0, 1, 1, 0, 1, 0, 1, 0, 1, 0, 1, 0, 1, 1, 1,\n",
      "       1, 0, 0, 1, 0, 1, 0, 1, 1, 1, 0, 1, 0, 1, 0, 1, 0, 1, 0, 1, 0, 1,\n",
      "       0, 1, 0, 1, 0, 1, 0, 1, 0, 1, 1, 1, 0, 1, 0, 1, 0, 1, 0, 1, 0, 1,\n",
      "       0, 1, 0, 1, 0, 1, 0, 1, 0, 1, 0, 1, 0, 1, 0, 1, 0, 1, 0, 0, 1, 0,\n",
      "       1, 0, 1, 0, 1, 1, 0, 1, 1, 1, 0, 1, 0, 1, 0, 1, 0, 1, 0, 1, 1, 1,\n",
      "       1, 1, 1, 1, 1, 1, 1, 1, 1, 1, 1, 1, 1, 1, 0, 1, 0, 1, 1, 1, 1, 1,\n",
      "       1, 0, 1, 0, 1, 0, 1, 0, 1, 0, 1, 1, 1, 0, 1, 0, 1, 1, 1, 1, 1, 1,\n",
      "       1, 0, 1, 0, 1, 0, 1, 0, 1, 0, 1, 0, 1, 0, 1, 0, 1, 0, 1, 1, 1, 1,\n",
      "       1, 1, 1, 1, 1, 1, 0, 1, 0, 1, 0, 1, 1, 1, 1, 1, 1, 1, 1, 1, 1, 0,\n",
      "       1, 0, 1, 1, 0, 1, 0, 1, 1, 0, 1, 1, 1, 1, 1, 1, 1, 1, 1, 1, 1, 1,\n",
      "       1, 1, 1, 1, 1, 1, 1, 0, 1, 1, 1, 1], dtype=int64))\n"
     ]
    }
   ],
   "source": [
    "threshold = 3\n",
    "print(np.where(wind_z > 3))"
   ]
  },
  {
   "cell_type": "code",
   "execution_count": 88,
   "metadata": {},
   "outputs": [],
   "source": [
    "#wind data with outliers removed\n",
    "wind_prod2 = wind_prod1[(wind_z < 3).all(axis=1)]"
   ]
  },
  {
   "cell_type": "code",
   "execution_count": 89,
   "metadata": {},
   "outputs": [
    {
     "data": {
      "text/plain": [
       "(15150, 2)"
      ]
     },
     "execution_count": 89,
     "metadata": {},
     "output_type": "execute_result"
    }
   ],
   "source": [
    "wind_prod2.shape"
   ]
  },
  {
   "cell_type": "code",
   "execution_count": 107,
   "metadata": {},
   "outputs": [
    {
     "data": {
      "text/html": [
       "<div>\n",
       "<style scoped>\n",
       "    .dataframe tbody tr th:only-of-type {\n",
       "        vertical-align: middle;\n",
       "    }\n",
       "\n",
       "    .dataframe tbody tr th {\n",
       "        vertical-align: top;\n",
       "    }\n",
       "\n",
       "    .dataframe thead th {\n",
       "        text-align: right;\n",
       "    }\n",
       "</style>\n",
       "<table border=\"1\" class=\"dataframe\">\n",
       "  <thead>\n",
       "    <tr style=\"text-align: right;\">\n",
       "      <th></th>\n",
       "      <th>WSpe</th>\n",
       "      <th>ECons</th>\n",
       "    </tr>\n",
       "    <tr>\n",
       "      <th>date</th>\n",
       "      <th></th>\n",
       "      <th></th>\n",
       "    </tr>\n",
       "  </thead>\n",
       "  <tbody>\n",
       "    <tr>\n",
       "      <th>3/25/2011 0:00</th>\n",
       "      <td>4.9</td>\n",
       "      <td>6476</td>\n",
       "    </tr>\n",
       "    <tr>\n",
       "      <th>3/25/2011 1:00</th>\n",
       "      <td>4.1</td>\n",
       "      <td>3512</td>\n",
       "    </tr>\n",
       "    <tr>\n",
       "      <th>3/25/2011 2:00</th>\n",
       "      <td>3.5</td>\n",
       "      <td>2376</td>\n",
       "    </tr>\n",
       "  </tbody>\n",
       "</table>\n",
       "</div>"
      ],
      "text/plain": [
       "                WSpe  ECons\n",
       "date                       \n",
       "3/25/2011 0:00   4.9   6476\n",
       "3/25/2011 1:00   4.1   3512\n",
       "3/25/2011 2:00   3.5   2376"
      ]
     },
     "execution_count": 107,
     "metadata": {},
     "output_type": "execute_result"
    }
   ],
   "source": [
    "wind_prod2[:3]"
   ]
  },
  {
   "cell_type": "code",
   "execution_count": 108,
   "metadata": {},
   "outputs": [],
   "source": [
    "x = wind_prod2['WSpe'].values\n",
    "y = wind_prod2['ECons'].values"
   ]
  },
  {
   "cell_type": "code",
   "execution_count": 111,
   "metadata": {},
   "outputs": [
    {
     "data": {
      "image/png": "[encoded data removed]",
      "text/plain": [
       "<Figure size 432x288 with 1 Axes>"
      ]
     },
     "metadata": {},
     "output_type": "display_data"
    }
   ],
   "source": [
    "pyplot.scatter(x, y, alpha=0.5)\n",
    "pyplot.show()"
   ]
  },
  {
   "cell_type": "code",
   "execution_count": 90,
   "metadata": {},
   "outputs": [],
   "source": [
    "#using series_to_supervised(), frame as supervised learning, with 24-hour timesteps\n",
    "wind_reframed2 = series_to_supervised(wind_prod2, 24, 1)"
   ]
  },
  {
   "cell_type": "code",
   "execution_count": 91,
   "metadata": {},
   "outputs": [],
   "source": [
    "w_cols = wind_reframed2.shape[1]\n",
    "w_drop = w_cols-1"
   ]
  },
  {
   "cell_type": "code",
   "execution_count": 92,
   "metadata": {},
   "outputs": [],
   "source": [
    "wind_reframed2.drop(wind_reframed2.columns[w_drop], axis=1, inplace=True)"
   ]
  },
  {
   "cell_type": "code",
   "execution_count": 93,
   "metadata": {},
   "outputs": [],
   "source": [
    "#split reframed data into train and test sets, with train/test proportions of 75/25\n",
    "w_train2, w_test2 = train_test_split(wind_reframed2, test_size=0.25, shuffle=False)"
   ]
  },
  {
   "cell_type": "code",
   "execution_count": 94,
   "metadata": {},
   "outputs": [],
   "source": [
    "#split train data into train and validation sets, with train/validation proportions of 80/20\n",
    "w_train2, w_valid2 = train_test_split(w_train2, test_size=0.20, shuffle=False)"
   ]
  },
  {
   "cell_type": "code",
   "execution_count": 96,
   "metadata": {},
   "outputs": [
    {
     "data": {
      "text/plain": [
       "(9075, 49)"
      ]
     },
     "execution_count": 96,
     "metadata": {},
     "output_type": "execute_result"
    }
   ],
   "source": [
    "w_train2.shape"
   ]
  },
  {
   "cell_type": "code",
   "execution_count": 97,
   "metadata": {},
   "outputs": [
    {
     "data": {
      "text/plain": [
       "(3782, 49)"
      ]
     },
     "execution_count": 97,
     "metadata": {},
     "output_type": "execute_result"
    }
   ],
   "source": [
    "w_test2.shape"
   ]
  },
  {
   "cell_type": "code",
   "execution_count": 98,
   "metadata": {},
   "outputs": [
    {
     "data": {
      "text/plain": [
       "(2269, 49)"
      ]
     },
     "execution_count": 98,
     "metadata": {},
     "output_type": "execute_result"
    }
   ],
   "source": [
    "w_valid2.shape"
   ]
  },
  {
   "cell_type": "code",
   "execution_count": 99,
   "metadata": {},
   "outputs": [],
   "source": [
    "#split train and validation data into input and output\n",
    "train_values2 = w_train2.values  \n",
    "valid_values2 = w_valid2.values"
   ]
  },
  {
   "cell_type": "code",
   "execution_count": 100,
   "metadata": {},
   "outputs": [
    {
     "name": "stdout",
     "output_type": "stream",
     "text": [
      "(9075, 48) (9075,)\n",
      "(2269, 48) (2269,)\n"
     ]
    }
   ],
   "source": [
    "x_train2, y_train2 = train_values2[:, :-1], train_values2[:, -1]\n",
    "x_valid2, y_valid2 = valid_values2[:, :-1], valid_values2[:, -1]\n",
    "\n",
    "print(x_train2.shape, y_train2.shape)\n",
    "print(x_valid2.shape, y_valid2.shape)"
   ]
  },
  {
   "cell_type": "code",
   "execution_count": 101,
   "metadata": {},
   "outputs": [
    {
     "name": "stdout",
     "output_type": "stream",
     "text": [
      "(9075, 24, 2) (9075,)\n",
      "(2269, 24, 2) (2269,)\n"
     ]
    }
   ],
   "source": [
    "# Reshape train/valid input data to be Keras-ready format [samples, timesteps, features]\n",
    "x_train2 = x_train2.reshape((x_train2.shape[0], 24, 2))\n",
    "x_valid2 = x_valid2.reshape((x_valid2.shape[0], 24, 2))\n",
    "print(x_train2.shape, y_train2.shape)\n",
    "print(x_valid2.shape, y_valid2.shape)"
   ]
  },
  {
   "cell_type": "code",
   "execution_count": 103,
   "metadata": {},
   "outputs": [],
   "source": [
    "# design neural net 2\n",
    "def buildModel():\n",
    "    'a funtion that builds a Neural networks model'\n",
    "    w_model = Sequential()\n",
    "    w_model.add(LSTM(50, input_shape=(x_train.shape[1], x_train.shape[2])))\n",
    "    w_model.add(Dense(1))\n",
    "    \n",
    "    w_model.compile(loss='mae', optimizer='adam', metrics=['mse'])\n",
    "    return model"
   ]
  },
  {
   "cell_type": "code",
   "execution_count": 104,
   "metadata": {},
   "outputs": [
    {
     "name": "stdout",
     "output_type": "stream",
     "text": [
      "_________________________________________________________________\n",
      "Layer (type)                 Output Shape              Param #   \n",
      "=================================================================\n",
      "lstm_3 (LSTM)                (None, 50)                10600     \n",
      "_________________________________________________________________\n",
      "dense_3 (Dense)              (None, 1)                 51        \n",
      "=================================================================\n",
      "Total params: 10,651\n",
      "Trainable params: 10,651\n",
      "Non-trainable params: 0\n",
      "_________________________________________________________________\n"
     ]
    }
   ],
   "source": [
    "nn2 = buildModel()\n",
    "nn2.summary()"
   ]
  },
  {
   "cell_type": "code",
   "execution_count": 105,
   "metadata": {},
   "outputs": [
    {
     "name": "stdout",
     "output_type": "stream",
     "text": [
      "Train on 9075 samples, validate on 2269 samples\n",
      "Epoch 1/50\n",
      " - 5s - loss: 1.2130 - mean_squared_error: 2.5553 - val_loss: 1.1319 - val_mean_squared_error: 2.2717\n",
      "Epoch 2/50\n",
      " - 4s - loss: 1.4579 - mean_squared_error: 4.1650 - val_loss: 1.8713 - val_mean_squared_error: 5.7963\n",
      "Epoch 3/50\n",
      " - 5s - loss: 1.5849 - mean_squared_error: 4.4056 - val_loss: 2.0862 - val_mean_squared_error: 7.0833\n",
      "Epoch 4/50\n",
      " - 5s - loss: 1.9349 - mean_squared_error: 6.2089 - val_loss: 1.8150 - val_mean_squared_error: 5.2856\n",
      "Epoch 5/50\n",
      " - 5s - loss: 1.9311 - mean_squared_error: 6.0949 - val_loss: 2.1167 - val_mean_squared_error: 7.0863\n",
      "Epoch 6/50\n",
      " - 5s - loss: 1.9058 - mean_squared_error: 5.9686 - val_loss: 1.7017 - val_mean_squared_error: 4.6479\n",
      "Epoch 7/50\n",
      " - 5s - loss: 1.7903 - mean_squared_error: 5.3559 - val_loss: 1.6957 - val_mean_squared_error: 4.7793\n",
      "Epoch 8/50\n",
      " - 5s - loss: 1.6033 - mean_squared_error: 4.5202 - val_loss: 1.2684 - val_mean_squared_error: 2.8911\n",
      "Epoch 9/50\n",
      " - 5s - loss: 1.8453 - mean_squared_error: 5.8362 - val_loss: 1.5131 - val_mean_squared_error: 3.7414\n",
      "Epoch 10/50\n",
      " - 5s - loss: 1.7488 - mean_squared_error: 5.3171 - val_loss: 1.7201 - val_mean_squared_error: 5.1375\n",
      "Epoch 11/50\n",
      " - 5s - loss: 1.9166 - mean_squared_error: 6.2083 - val_loss: 1.9838 - val_mean_squared_error: 6.3376\n",
      "Epoch 12/50\n",
      " - 5s - loss: 2.2760 - mean_squared_error: 8.5656 - val_loss: 1.8842 - val_mean_squared_error: 5.8118\n",
      "Epoch 13/50\n",
      " - 5s - loss: 1.8737 - mean_squared_error: 5.6012 - val_loss: 1.7125 - val_mean_squared_error: 4.9698\n",
      "Epoch 14/50\n",
      " - 5s - loss: 1.7061 - mean_squared_error: 4.8947 - val_loss: 1.5126 - val_mean_squared_error: 4.1149\n",
      "Epoch 15/50\n",
      " - 4s - loss: 1.8280 - mean_squared_error: 5.7914 - val_loss: 1.6713 - val_mean_squared_error: 4.4307\n",
      "Epoch 16/50\n",
      " - 5s - loss: 1.7919 - mean_squared_error: 5.0443 - val_loss: 1.8836 - val_mean_squared_error: 5.2932\n",
      "Epoch 17/50\n",
      " - 4s - loss: 1.5386 - mean_squared_error: 3.9941 - val_loss: 1.4286 - val_mean_squared_error: 3.3884\n",
      "Epoch 18/50\n",
      " - 5s - loss: 1.9257 - mean_squared_error: 5.9783 - val_loss: 1.6771 - val_mean_squared_error: 4.4088\n",
      "Epoch 19/50\n",
      " - 5s - loss: 1.7357 - mean_squared_error: 4.8606 - val_loss: 1.3114 - val_mean_squared_error: 3.1635\n",
      "Epoch 20/50\n",
      " - 5s - loss: 1.8561 - mean_squared_error: 5.4160 - val_loss: 1.5428 - val_mean_squared_error: 3.8293\n",
      "Epoch 21/50\n",
      " - 4s - loss: 1.9575 - mean_squared_error: 6.6682 - val_loss: 1.5003 - val_mean_squared_error: 4.0351\n",
      "Epoch 22/50\n",
      " - 5s - loss: 1.7446 - mean_squared_error: 5.2931 - val_loss: 1.6524 - val_mean_squared_error: 4.6572\n",
      "Epoch 23/50\n",
      " - 5s - loss: 1.6929 - mean_squared_error: 4.7014 - val_loss: 1.6505 - val_mean_squared_error: 4.5367\n",
      "Epoch 24/50\n",
      " - 5s - loss: 1.6488 - mean_squared_error: 4.4451 - val_loss: 1.7166 - val_mean_squared_error: 4.5337\n",
      "Epoch 25/50\n",
      " - 5s - loss: 1.9123 - mean_squared_error: 5.5332 - val_loss: 1.7848 - val_mean_squared_error: 4.8762\n",
      "Epoch 26/50\n",
      " - 5s - loss: 1.9161 - mean_squared_error: 5.4860 - val_loss: 1.6896 - val_mean_squared_error: 4.2957\n",
      "Epoch 27/50\n",
      " - 5s - loss: 2.0129 - mean_squared_error: 6.2213 - val_loss: 1.7826 - val_mean_squared_error: 4.8636\n",
      "Epoch 28/50\n",
      " - 5s - loss: 1.9281 - mean_squared_error: 5.5477 - val_loss: 1.7168 - val_mean_squared_error: 4.4143\n",
      "Epoch 29/50\n",
      " - 4s - loss: 1.9240 - mean_squared_error: 5.5215 - val_loss: 1.6811 - val_mean_squared_error: 4.2400\n",
      "Epoch 30/50\n",
      " - 5s - loss: 1.9503 - mean_squared_error: 5.7408 - val_loss: 1.6718 - val_mean_squared_error: 4.2342\n",
      "Epoch 31/50\n",
      " - 5s - loss: 1.8829 - mean_squared_error: 5.2747 - val_loss: 1.6595 - val_mean_squared_error: 4.1238\n",
      "Epoch 32/50\n",
      " - 5s - loss: 1.8355 - mean_squared_error: 5.1231 - val_loss: 1.8224 - val_mean_squared_error: 5.2477\n",
      "Epoch 33/50\n",
      " - 5s - loss: 1.8524 - mean_squared_error: 5.3951 - val_loss: 1.7307 - val_mean_squared_error: 4.8918\n",
      "Epoch 34/50\n",
      " - 5s - loss: 1.6739 - mean_squared_error: 4.4853 - val_loss: 1.5466 - val_mean_squared_error: 3.8891\n",
      "Epoch 35/50\n",
      " - 5s - loss: 1.6478 - mean_squared_error: 4.7725 - val_loss: 1.7428 - val_mean_squared_error: 4.7530\n",
      "Epoch 36/50\n",
      " - 5s - loss: 1.8710 - mean_squared_error: 5.2600 - val_loss: 1.6756 - val_mean_squared_error: 4.2646\n",
      "Epoch 37/50\n",
      " - 5s - loss: 1.8207 - mean_squared_error: 5.0136 - val_loss: 1.6253 - val_mean_squared_error: 4.0274\n",
      "Epoch 38/50\n",
      " - 5s - loss: 1.7322 - mean_squared_error: 4.7037 - val_loss: 1.3652 - val_mean_squared_error: 3.0584\n",
      "Epoch 39/50\n",
      " - 5s - loss: 1.5483 - mean_squared_error: 3.9007 - val_loss: 1.7205 - val_mean_squared_error: 4.6731\n",
      "Epoch 40/50\n",
      " - 5s - loss: 1.8023 - mean_squared_error: 4.9454 - val_loss: 1.5504 - val_mean_squared_error: 3.7696\n",
      "Epoch 41/50\n",
      " - 5s - loss: 1.5972 - mean_squared_error: 4.0505 - val_loss: 1.4450 - val_mean_squared_error: 3.5241\n",
      "Epoch 42/50\n",
      " - 5s - loss: 1.6818 - mean_squared_error: 4.6197 - val_loss: 1.6215 - val_mean_squared_error: 4.0443\n",
      "Epoch 43/50\n",
      " - 5s - loss: 1.8654 - mean_squared_error: 5.3705 - val_loss: 1.7264 - val_mean_squared_error: 4.5033\n",
      "Epoch 44/50\n",
      " - 5s - loss: 1.9484 - mean_squared_error: 5.7125 - val_loss: 1.7142 - val_mean_squared_error: 4.4157\n",
      "Epoch 45/50\n",
      " - 5s - loss: 1.9011 - mean_squared_error: 5.3570 - val_loss: 1.6833 - val_mean_squared_error: 4.2349\n",
      "Epoch 46/50\n",
      " - 5s - loss: 1.9050 - mean_squared_error: 5.4255 - val_loss: 1.6823 - val_mean_squared_error: 4.2507\n",
      "Epoch 47/50\n",
      " - 5s - loss: 1.9050 - mean_squared_error: 5.4760 - val_loss: 1.7385 - val_mean_squared_error: 4.5746\n",
      "Epoch 48/50\n",
      " - 5s - loss: 1.9222 - mean_squared_error: 5.5192 - val_loss: 1.7282 - val_mean_squared_error: 4.4981\n",
      "Epoch 49/50\n",
      " - 5s - loss: 1.9144 - mean_squared_error: 5.4801 - val_loss: 1.7339 - val_mean_squared_error: 4.5395\n",
      "Epoch 50/50\n",
      " - 5s - loss: 1.9260 - mean_squared_error: 5.5407 - val_loss: 1.7264 - val_mean_squared_error: 4.4782\n"
     ]
    }
   ],
   "source": [
    "#fit network\n",
    "history = nn2.fit(x_train2, y_train2, \n",
    "                    epochs=50,\n",
    "                    batch_size=30,\n",
    "                    verbose=2, \n",
    "                    shuffle=False, \n",
    "                    validation_data=(x_valid2, y_valid2))"
   ]
  },
  {
   "cell_type": "code",
   "execution_count": 106,
   "metadata": {},
   "outputs": [
    {
     "data": {
      "image/png": "[encoded data removed]",
      "text/plain": [
       "<Figure size 432x288 with 1 Axes>"
      ]
     },
     "metadata": {},
     "output_type": "display_data"
    }
   ],
   "source": [
    "# plot history of loss for train and valid sets\n",
    "pyplot.plot(history.history['loss'], label='train')\n",
    "pyplot.plot(history.history['val_loss'], label='valid')\n",
    "pyplot.title('model train vs validation loss')\n",
    "pyplot.ylabel('loss')\n",
    "pyplot.xlabel('epoch')\n",
    "pyplot.legend()\n",
    "pyplot.savefig(\"Graph3.png\", bbox_inches='tight')\n",
    "pyplot.show()"
   ]
  },
  {
   "cell_type": "code",
   "execution_count": null,
   "metadata": {},
   "outputs": [],
   "source": [
    "#Reset model\n",
    "model = buildModel()"
   ]
  },
  {
   "cell_type": "code",
   "execution_count": null,
   "metadata": {},
   "outputs": [],
   "source": []
  },
  {
   "cell_type": "markdown",
   "metadata": {},
   "source": [
    "### scen"
   ]
  },
  {
   "cell_type": "code",
   "execution_count": 15,
   "metadata": {},
   "outputs": [],
   "source": [
    "scen = scen.drop(columns=['Consumption_type'])"
   ]
  },
  {
   "cell_type": "code",
   "execution_count": 16,
   "metadata": {},
   "outputs": [],
   "source": [
    "scen.index.name = 'date'\n",
    "scen.columns = ['Mt','Dt','Ht','Dow','Wkdy','Hd','Sd','ECons',\n",
    "                'CCov','DPnt','HFra','PWat','Pres','Temp','Vis',\n",
    "                'WSpe','WSpeBin']"
   ]
  },
  {
   "cell_type": "code",
   "execution_count": 17,
   "metadata": {},
   "outputs": [
    {
     "name": "stdout",
     "output_type": "stream",
     "text": [
      "               Mt  Dt  Ht  Dow Wkdy  Hd  Sd        ECons  CCov  DPnt    HFra  \\\n",
      "date                                                                           \n",
      "1/1/1991 0:00   1   1   0    3  Tue   1   0  22597.66901   1.0  -1.7  0.9225   \n",
      "1/1/1991 1:00   1   1   1    3  Tue   1   0  22597.66901   1.0  -1.7  0.9568   \n",
      "1/1/1991 2:00   1   1   2    3  Tue   1   0  22597.66901   1.0  -2.8  0.8820   \n",
      "\n",
      "               PWat   Pres  Temp    Vis  WSpe  WSpeBin  \n",
      "date                                                    \n",
      "1/1/1991 0:00   0.0  975.0  -0.6  2.012   5.7        4  \n",
      "1/1/1991 1:00   0.3  973.9  -1.1  0.800   6.2        5  \n",
      "1/1/1991 2:00   0.8  973.4  -1.1  0.805   6.2        5  \n"
     ]
    }
   ],
   "source": [
    "print(scen.head(3))"
   ]
  },
  {
   "cell_type": "code",
   "execution_count": 18,
   "metadata": {},
   "outputs": [],
   "source": [
    "### sect"
   ]
  },
  {
   "cell_type": "code",
   "execution_count": 19,
   "metadata": {},
   "outputs": [],
   "source": [
    "sect.columns = ['<5','5>18','18>25','25>65','65+','Total_Sqft']"
   ]
  },
  {
   "cell_type": "code",
   "execution_count": 20,
   "metadata": {},
   "outputs": [
    {
     "name": "stdout",
     "output_type": "stream",
     "text": [
      "                     <5        5>18      18>25      25>65        65+  \\\n",
      "Sector                                                                 \n",
      "Food Service   0.000000    2.732693  15.485258  10.930770  10.019873   \n",
      "Health Care   20.178737    2.063909   5.957220  10.589096   9.028940   \n",
      "K-12           0.000000  140.000000   0.000000   0.000000   0.000000   \n",
      "\n",
      "                Total_Sqft  \n",
      "Sector                      \n",
      "Food Service  9.675581e+05  \n",
      "Health Care   9.653743e+05  \n",
      "K-12          2.426480e+06  \n"
     ]
    }
   ],
   "source": [
    "print(sect.head(3))"
   ]
  },
  {
   "cell_type": "code",
   "execution_count": null,
   "metadata": {},
   "outputs": [],
   "source": []
  },
  {
   "cell_type": "code",
   "execution_count": null,
   "metadata": {},
   "outputs": [],
   "source": []
  },
  {
   "cell_type": "code",
   "execution_count": null,
   "metadata": {},
   "outputs": [],
   "source": []
  },
  {
   "cell_type": "code",
   "execution_count": null,
   "metadata": {},
   "outputs": [],
   "source": []
  },
  {
   "cell_type": "code",
   "execution_count": null,
   "metadata": {},
   "outputs": [],
   "source": []
  },
  {
   "cell_type": "code",
   "execution_count": null,
   "metadata": {},
   "outputs": [],
   "source": []
  },
  {
   "cell_type": "code",
   "execution_count": null,
   "metadata": {},
   "outputs": [],
   "source": []
  },
  {
   "cell_type": "code",
   "execution_count": null,
   "metadata": {},
   "outputs": [],
   "source": []
  },
  {
   "cell_type": "code",
   "execution_count": null,
   "metadata": {},
   "outputs": [],
   "source": []
  },
  {
   "cell_type": "code",
   "execution_count": null,
   "metadata": {},
   "outputs": [],
   "source": []
  },
  {
   "cell_type": "code",
   "execution_count": null,
   "metadata": {},
   "outputs": [],
   "source": []
  },
  {
   "cell_type": "code",
   "execution_count": null,
   "metadata": {},
   "outputs": [],
   "source": []
  },
  {
   "cell_type": "code",
   "execution_count": null,
   "metadata": {},
   "outputs": [],
   "source": []
  },
  {
   "cell_type": "code",
   "execution_count": null,
   "metadata": {},
   "outputs": [],
   "source": []
  },
  {
   "cell_type": "code",
   "execution_count": null,
   "metadata": {},
   "outputs": [],
   "source": []
  },
  {
   "cell_type": "code",
   "execution_count": null,
   "metadata": {},
   "outputs": [],
   "source": []
  },
  {
   "cell_type": "code",
   "execution_count": null,
   "metadata": {},
   "outputs": [],
   "source": []
  },
  {
   "cell_type": "code",
   "execution_count": null,
   "metadata": {},
   "outputs": [],
   "source": []
  },
  {
   "cell_type": "code",
   "execution_count": null,
   "metadata": {},
   "outputs": [],
   "source": []
  },
  {
   "cell_type": "code",
   "execution_count": null,
   "metadata": {},
   "outputs": [],
   "source": []
  },
  {
   "cell_type": "code",
   "execution_count": null,
   "metadata": {},
   "outputs": [],
   "source": []
  },
  {
   "cell_type": "code",
   "execution_count": null,
   "metadata": {},
   "outputs": [],
   "source": []
  },
  {
   "cell_type": "code",
   "execution_count": null,
   "metadata": {},
   "outputs": [],
   "source": []
  },
  {
   "cell_type": "code",
   "execution_count": null,
   "metadata": {},
   "outputs": [],
   "source": []
  },
  {
   "cell_type": "code",
   "execution_count": null,
   "metadata": {},
   "outputs": [],
   "source": []
  },
  {
   "cell_type": "code",
   "execution_count": null,
   "metadata": {},
   "outputs": [],
   "source": []
  },
  {
   "cell_type": "code",
   "execution_count": null,
   "metadata": {},
   "outputs": [],
   "source": []
  },
  {
   "cell_type": "code",
   "execution_count": null,
   "metadata": {},
   "outputs": [],
   "source": []
  },
  {
   "cell_type": "code",
   "execution_count": null,
   "metadata": {},
   "outputs": [],
   "source": []
  },
  {
   "cell_type": "code",
   "execution_count": null,
   "metadata": {},
   "outputs": [],
   "source": []
  },
  {
   "cell_type": "code",
   "execution_count": null,
   "metadata": {},
   "outputs": [],
   "source": []
  },
  {
   "cell_type": "code",
   "execution_count": null,
   "metadata": {},
   "outputs": [],
   "source": []
  },
  {
   "cell_type": "code",
   "execution_count": null,
   "metadata": {},
   "outputs": [],
   "source": []
  },
  {
   "cell_type": "code",
   "execution_count": null,
   "metadata": {},
   "outputs": [],
   "source": []
  },
  {
   "cell_type": "code",
   "execution_count": null,
   "metadata": {},
   "outputs": [],
   "source": []
  },
  {
   "cell_type": "code",
   "execution_count": null,
   "metadata": {},
   "outputs": [],
   "source": []
  },
  {
   "cell_type": "code",
   "execution_count": null,
   "metadata": {},
   "outputs": [],
   "source": []
  },
  {
   "cell_type": "code",
   "execution_count": null,
   "metadata": {},
   "outputs": [],
   "source": []
  },
  {
   "cell_type": "code",
   "execution_count": null,
   "metadata": {},
   "outputs": [],
   "source": []
  },
  {
   "cell_type": "code",
   "execution_count": null,
   "metadata": {},
   "outputs": [],
   "source": []
  },
  {
   "cell_type": "code",
   "execution_count": null,
   "metadata": {},
   "outputs": [],
   "source": []
  },
  {
   "cell_type": "code",
   "execution_count": null,
   "metadata": {},
   "outputs": [],
   "source": []
  }
 ],
 "metadata": {
  "kernelspec": {
   "display_name": "Python 3",
   "language": "python",
   "name": "python3"
  },
  "language_info": {
   "codemirror_mode": {
    "name": "ipython",
    "version": 3
   },
   "file_extension": ".py",
   "mimetype": "text/x-python",
   "name": "python",
   "nbconvert_exporter": "python",
   "pygments_lexer": "ipython3",
   "version": "3.7.3"
  }
 },
 "nbformat": 4,
 "nbformat_minor": 2
}
